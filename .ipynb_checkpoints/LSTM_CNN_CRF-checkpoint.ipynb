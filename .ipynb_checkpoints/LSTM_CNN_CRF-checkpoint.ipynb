{
 "cells": [
  {
   "cell_type": "code",
   "execution_count": 99,
   "metadata": {},
   "outputs": [],
   "source": [
    "import pandas as pd\n",
    "import numpy as np\n",
    "\n",
    "from utils import SentenceGetter\n",
    "from keras.preprocessing.sequence import pad_sequences\n",
    "from sklearn.model_selection import train_test_split\n",
    "from sklearn.model_selection import cross_val_score\n",
    "from sklearn.metrics import classification_report\n",
    "\n",
    "from keras.models import Model, Input\n",
    "from keras.layers import LSTM, Embedding, Dense, TimeDistributed, Dropout, Conv1D, Flatten\n",
    "from keras.layers import Bidirectional, concatenate, SpatialDropout1D, MaxPooling1D\n",
    "from keras_contrib.layers import CRF\n",
    "from keras.initializers import RandomUniform\n",
    "\n",
    "import matplotlib.pyplot as plt\n",
    "\n",
    "\n"
   ]
  },
  {
   "cell_type": "markdown",
   "metadata": {},
   "source": [
    "# Implement BiLSTM-CNN on data\n",
    "At this part we are going to implement Named Entity Recognition with Bidirectional LSTM-CNNs based on the work <a href=\"https://arxiv.org/pdf/1511.08308.pdf\">Chiu, J. P., & Nichols, E. (2016).</a> and then we expand this model to the BiLSTM-CNN-CRF model.  The overall network for BiLSTM-CNN model is presented on the figure below, however, we simplified it.\n",
    "\n",
    "<table><tr>\n",
    "<td> <img src=\"images/LSTM-CNN-1.jpg\" alt=\"Drawing\" style=\"width: 250px;\"/> </td>\n",
    "<td> <img src=\"images/LSTM-CNN-2.jpg\" alt=\"Drawing\" style=\"width: 250px;\"/> </td>\n",
    "<td> <img src=\"images/LSTM-CNN-3.jpg\" alt=\"Drawing\" style=\"width: 250px;\"/> </td>\n",
    "</tr></table>\n",
    "\n",
    "We are going to:\n",
    "1. Apply char embeddings by creating a dictionary of all characters and then mapping the ids to each character\n",
    "2. Apply word embeddings by the same algorithm. Chiu and Nicols used GloVe word embeddings trained on 6 billions tokens from Wikipedia and Gigaword 5 (<a  href=\"https://nlp.stanford.edu/projects/glove/\">Pennington et al., 2014. GloVe: Global Vectors for Word Representation.</a>), however, it does not contain all word representations for our dataset, therefore, it was decided not to use it. \n",
    "4. Apply CNN on char embeddings. We will try 2 different layers: 1) simple LSTM layer; 2) convolutional and max pooling layers (as it is described on fig.2).\n",
    "5. Feed the output of CNN and word embeddings to the BiLSTM.\n",
    "6. *For BiLSTM-CNN-CRF model, apply a CRF layer on top of created model."
   ]
  },
  {
   "cell_type": "markdown",
   "metadata": {},
   "source": [
    "## 0. Prepare data"
   ]
  },
  {
   "cell_type": "code",
   "execution_count": 100,
   "metadata": {},
   "outputs": [
    {
     "data": {
      "text/html": [
       "<div>\n",
       "<style scoped>\n",
       "    .dataframe tbody tr th:only-of-type {\n",
       "        vertical-align: middle;\n",
       "    }\n",
       "\n",
       "    .dataframe tbody tr th {\n",
       "        vertical-align: top;\n",
       "    }\n",
       "\n",
       "    .dataframe thead th {\n",
       "        text-align: right;\n",
       "    }\n",
       "</style>\n",
       "<table border=\"1\" class=\"dataframe\">\n",
       "  <thead>\n",
       "    <tr style=\"text-align: right;\">\n",
       "      <th></th>\n",
       "      <th>Sentence #</th>\n",
       "      <th>Word</th>\n",
       "      <th>POS</th>\n",
       "      <th>Tag</th>\n",
       "    </tr>\n",
       "  </thead>\n",
       "  <tbody>\n",
       "    <tr>\n",
       "      <th>1048565</th>\n",
       "      <td>Sentence: 47958</td>\n",
       "      <td>impact</td>\n",
       "      <td>NN</td>\n",
       "      <td>O</td>\n",
       "    </tr>\n",
       "    <tr>\n",
       "      <th>1048566</th>\n",
       "      <td>Sentence: 47958</td>\n",
       "      <td>.</td>\n",
       "      <td>.</td>\n",
       "      <td>O</td>\n",
       "    </tr>\n",
       "    <tr>\n",
       "      <th>1048567</th>\n",
       "      <td>Sentence: 47959</td>\n",
       "      <td>Indian</td>\n",
       "      <td>JJ</td>\n",
       "      <td>B-gpe</td>\n",
       "    </tr>\n",
       "    <tr>\n",
       "      <th>1048568</th>\n",
       "      <td>Sentence: 47959</td>\n",
       "      <td>forces</td>\n",
       "      <td>NNS</td>\n",
       "      <td>O</td>\n",
       "    </tr>\n",
       "    <tr>\n",
       "      <th>1048569</th>\n",
       "      <td>Sentence: 47959</td>\n",
       "      <td>said</td>\n",
       "      <td>VBD</td>\n",
       "      <td>O</td>\n",
       "    </tr>\n",
       "    <tr>\n",
       "      <th>1048570</th>\n",
       "      <td>Sentence: 47959</td>\n",
       "      <td>they</td>\n",
       "      <td>PRP</td>\n",
       "      <td>O</td>\n",
       "    </tr>\n",
       "    <tr>\n",
       "      <th>1048571</th>\n",
       "      <td>Sentence: 47959</td>\n",
       "      <td>responded</td>\n",
       "      <td>VBD</td>\n",
       "      <td>O</td>\n",
       "    </tr>\n",
       "    <tr>\n",
       "      <th>1048572</th>\n",
       "      <td>Sentence: 47959</td>\n",
       "      <td>to</td>\n",
       "      <td>TO</td>\n",
       "      <td>O</td>\n",
       "    </tr>\n",
       "    <tr>\n",
       "      <th>1048573</th>\n",
       "      <td>Sentence: 47959</td>\n",
       "      <td>the</td>\n",
       "      <td>DT</td>\n",
       "      <td>O</td>\n",
       "    </tr>\n",
       "    <tr>\n",
       "      <th>1048574</th>\n",
       "      <td>Sentence: 47959</td>\n",
       "      <td>attack</td>\n",
       "      <td>NN</td>\n",
       "      <td>O</td>\n",
       "    </tr>\n",
       "  </tbody>\n",
       "</table>\n",
       "</div>"
      ],
      "text/plain": [
       "              Sentence #       Word  POS    Tag\n",
       "1048565  Sentence: 47958     impact   NN      O\n",
       "1048566  Sentence: 47958          .    .      O\n",
       "1048567  Sentence: 47959     Indian   JJ  B-gpe\n",
       "1048568  Sentence: 47959     forces  NNS      O\n",
       "1048569  Sentence: 47959       said  VBD      O\n",
       "1048570  Sentence: 47959       they  PRP      O\n",
       "1048571  Sentence: 47959  responded  VBD      O\n",
       "1048572  Sentence: 47959         to   TO      O\n",
       "1048573  Sentence: 47959        the   DT      O\n",
       "1048574  Sentence: 47959     attack   NN      O"
      ]
     },
     "execution_count": 100,
     "metadata": {},
     "output_type": "execute_result"
    }
   ],
   "source": [
    "#download data\n",
    "data = pd.read_csv(\"ner_dataset.csv\", encoding=\"latin1\")\n",
    "data = data.fillna(method=\"ffill\")\n",
    "data.tail(10)"
   ]
  },
  {
   "cell_type": "code",
   "execution_count": 101,
   "metadata": {},
   "outputs": [],
   "source": [
    "#create a getter which will transform sentences\n",
    "getter = SentenceGetter(data)"
   ]
  },
  {
   "cell_type": "code",
   "execution_count": 102,
   "metadata": {},
   "outputs": [
    {
     "data": {
      "text/plain": [
       "[['They', 'O'],\n",
       " ['left', 'O'],\n",
       " ['after', 'O'],\n",
       " ['a', 'O'],\n",
       " ['tense', 'O'],\n",
       " ['hour-long', 'O'],\n",
       " ['standoff', 'O'],\n",
       " ['with', 'O'],\n",
       " ['riot', 'O'],\n",
       " ['police', 'O'],\n",
       " ['.', 'O']]"
      ]
     },
     "execution_count": 102,
     "metadata": {},
     "output_type": "execute_result"
    }
   ],
   "source": [
    "sentences = getter.sentences\n",
    "sentences[3]"
   ]
  },
  {
   "cell_type": "code",
   "execution_count": 104,
   "metadata": {},
   "outputs": [],
   "source": [
    "words = list(set(data[\"Word\"].values))"
   ]
  },
  {
   "cell_type": "markdown",
   "metadata": {},
   "source": [
    "### Create Mappings for Words, Characters and Tags\n",
    " We now have a list of sentences which are words along with their labels. Now, we want to map these individual words, labels and characters in each word, to unique numerical ID's so that each unique word, character and tag in the vocabulary is represented by a particular integer ID. To do this, we first create a functions that do these mapping for us\n",
    "\n",
    "### Why mapping is important?\n",
    "These indices for words, labels and characters help us employ matrix (tensor) operations inside the neural network architecture, which are considerably faster."
   ]
  },
  {
   "cell_type": "markdown",
   "metadata": {},
   "source": [
    "## 1. Char embeddings"
   ]
  },
  {
   "cell_type": "code",
   "execution_count": 53,
   "metadata": {},
   "outputs": [
    {
     "name": "stdout",
     "output_type": "stream",
     "text": [
      "{'&', 'F', '\\x97', '\\x93', '!', 'K', 'f', 'U', 'M', 'y', 'k', '5', 'H', 'I', '\\x91', 'S', 'ü', 'j', '?', '\\xa0', 'n', 'D', 'L', '\"', 'm', 'u', '-', 'T', ',', '0', '7', 'o', '%', 'l', '1', ']', '#', '(', '\\x85', '~', 'v', ':', 'p', 'z', '3', 'b', 't', '2', '\\x96', 'i', 'e', 'w', 'ë', 'h', 'g', \"'\", '9', '[', '°', '.', 'V', 'J', '$', '\\x94', 'd', ')', 'O', '\\x92', 'Q', 'B', '/', 'P', 'R', 'q', 'Y', 'ö', 'C', 'N', '6', 'a', '8', 'x', 's', 'W', 'Z', 'G', 'é', 'c', 'A', '@', '_', 'E', '+', 'X', ';', 'r', '`', '4'}\n",
      "98\n"
     ]
    }
   ],
   "source": [
    "chars = set([w_i for w in words for w_i in w])\n",
    "print(chars)\n",
    "print(len(chars))"
   ]
  },
  {
   "cell_type": "code",
   "execution_count": 54,
   "metadata": {
    "scrolled": true
   },
   "outputs": [
    {
     "data": {
      "text/plain": [
       "{'&': 1,\n",
       " 'F': 2,\n",
       " '\\x97': 3,\n",
       " '\\x93': 4,\n",
       " '!': 5,\n",
       " 'K': 6,\n",
       " 'f': 7,\n",
       " 'U': 8,\n",
       " 'M': 9,\n",
       " 'y': 10,\n",
       " 'k': 11,\n",
       " '5': 12,\n",
       " 'H': 13,\n",
       " 'I': 14,\n",
       " '\\x91': 15,\n",
       " 'S': 16,\n",
       " 'ü': 17,\n",
       " 'j': 18,\n",
       " '?': 19,\n",
       " '\\xa0': 20,\n",
       " 'n': 21,\n",
       " 'D': 22,\n",
       " 'L': 23,\n",
       " '\"': 24,\n",
       " 'm': 25,\n",
       " 'u': 26,\n",
       " '-': 27,\n",
       " 'T': 28,\n",
       " ',': 29,\n",
       " '0': 30,\n",
       " '7': 31,\n",
       " 'o': 32,\n",
       " '%': 33,\n",
       " 'l': 34,\n",
       " '1': 35,\n",
       " ']': 36,\n",
       " '#': 37,\n",
       " '(': 38,\n",
       " '\\x85': 39,\n",
       " '~': 40,\n",
       " 'v': 41,\n",
       " ':': 42,\n",
       " 'p': 43,\n",
       " 'z': 44,\n",
       " '3': 45,\n",
       " 'b': 46,\n",
       " 't': 47,\n",
       " '2': 48,\n",
       " '\\x96': 49,\n",
       " 'i': 50,\n",
       " 'e': 51,\n",
       " 'w': 52,\n",
       " 'ë': 53,\n",
       " 'h': 54,\n",
       " 'g': 55,\n",
       " \"'\": 56,\n",
       " '9': 57,\n",
       " '[': 58,\n",
       " '°': 59,\n",
       " '.': 60,\n",
       " 'V': 61,\n",
       " 'J': 62,\n",
       " '$': 63,\n",
       " '\\x94': 64,\n",
       " 'd': 65,\n",
       " ')': 66,\n",
       " 'O': 67,\n",
       " '\\x92': 68,\n",
       " 'Q': 69,\n",
       " 'B': 70,\n",
       " '/': 71,\n",
       " 'P': 72,\n",
       " 'R': 73,\n",
       " 'q': 74,\n",
       " 'Y': 75,\n",
       " 'ö': 76,\n",
       " 'C': 77,\n",
       " 'N': 78,\n",
       " '6': 79,\n",
       " 'a': 80,\n",
       " '8': 81,\n",
       " 'x': 82,\n",
       " 's': 83,\n",
       " 'W': 84,\n",
       " 'Z': 85,\n",
       " 'G': 86,\n",
       " 'é': 87,\n",
       " 'c': 88,\n",
       " 'A': 89,\n",
       " '@': 90,\n",
       " '_': 91,\n",
       " 'E': 92,\n",
       " '+': 93,\n",
       " 'X': 94,\n",
       " ';': 95,\n",
       " 'r': 96,\n",
       " '`': 97,\n",
       " '4': 98,\n",
       " 'PAD': 0}"
      ]
     },
     "execution_count": 54,
     "metadata": {},
     "output_type": "execute_result"
    }
   ],
   "source": [
    "# Crate a mapping for characters\n",
    "char2idx = {c: i + 1 for i, c in enumerate(chars)}\n",
    "char2idx[\"PAD\"] = 0 #use zero as a padding value\n",
    "char2idx"
   ]
  },
  {
   "cell_type": "code",
   "execution_count": 55,
   "metadata": {
    "scrolled": true
   },
   "outputs": [],
   "source": [
    "#map every word to a sequence of character numbers and pad the words \n",
    "\n",
    "X_char = []\n",
    "#maximum length of batch of sentences\n",
    "max_len = 75\n",
    "#maximun length of the batch of characters\n",
    "max_len_char = 10\n",
    "\n",
    "for sentence in sentences:\n",
    "    sent_seq = []\n",
    "    for i in range(max_len):\n",
    "        word_seq = []\n",
    "        for j in range(max_len_char):\n",
    "            try:\n",
    "                word_seq.append(char2idx.get(sentence[i][0][j]))\n",
    "            except:\n",
    "                word_seq.append(char2idx.get(\"PAD\"))\n",
    "        sent_seq.append(word_seq)\n",
    "    X_char.append(np.array(sent_seq))"
   ]
  },
  {
   "cell_type": "code",
   "execution_count": 56,
   "metadata": {
    "scrolled": true
   },
   "outputs": [
    {
     "name": "stdout",
     "output_type": "stream",
     "text": [
      "[['Thousands', 'O'], ['of', 'O'], ['demonstrators', 'O'], ['have', 'O'], ['marched', 'O'], ['through', 'O'], ['London', 'B-geo'], ['to', 'O'], ['protest', 'O'], ['the', 'O'], ['war', 'O'], ['in', 'O'], ['Iraq', 'B-geo'], ['and', 'O'], ['demand', 'O'], ['the', 'O'], ['withdrawal', 'O'], ['of', 'O'], ['British', 'B-gpe'], ['troops', 'O'], ['from', 'O'], ['that', 'O'], ['country', 'O'], ['.', 'O']]\n",
      "[[28 54 32 26 83 80 21 65 83  0]\n",
      " [32  7  0  0  0  0  0  0  0  0]\n",
      " [65 51 25 32 21 83 47 96 80 47]\n",
      " [54 80 41 51  0  0  0  0  0  0]\n",
      " [25 80 96 88 54 51 65  0  0  0]\n",
      " [47 54 96 32 26 55 54  0  0  0]\n",
      " [23 32 21 65 32 21  0  0  0  0]\n",
      " [47 32  0  0  0  0  0  0  0  0]\n",
      " [43 96 32 47 51 83 47  0  0  0]\n",
      " [47 54 51  0  0  0  0  0  0  0]\n",
      " [52 80 96  0  0  0  0  0  0  0]\n",
      " [50 21  0  0  0  0  0  0  0  0]\n",
      " [14 96 80 74  0  0  0  0  0  0]\n",
      " [80 21 65  0  0  0  0  0  0  0]\n",
      " [65 51 25 80 21 65  0  0  0  0]\n",
      " [47 54 51  0  0  0  0  0  0  0]\n",
      " [52 50 47 54 65 96 80 52 80 34]\n",
      " [32  7  0  0  0  0  0  0  0  0]\n",
      " [70 96 50 47 50 83 54  0  0  0]\n",
      " [47 96 32 32 43 83  0  0  0  0]\n",
      " [ 7 96 32 25  0  0  0  0  0  0]\n",
      " [47 54 80 47  0  0  0  0  0  0]\n",
      " [88 32 26 21 47 96 10  0  0  0]\n",
      " [60  0  0  0  0  0  0  0  0  0]\n",
      " [ 0  0  0  0  0  0  0  0  0  0]\n",
      " [ 0  0  0  0  0  0  0  0  0  0]\n",
      " [ 0  0  0  0  0  0  0  0  0  0]\n",
      " [ 0  0  0  0  0  0  0  0  0  0]\n",
      " [ 0  0  0  0  0  0  0  0  0  0]\n",
      " [ 0  0  0  0  0  0  0  0  0  0]\n",
      " [ 0  0  0  0  0  0  0  0  0  0]\n",
      " [ 0  0  0  0  0  0  0  0  0  0]\n",
      " [ 0  0  0  0  0  0  0  0  0  0]\n",
      " [ 0  0  0  0  0  0  0  0  0  0]\n",
      " [ 0  0  0  0  0  0  0  0  0  0]\n",
      " [ 0  0  0  0  0  0  0  0  0  0]\n",
      " [ 0  0  0  0  0  0  0  0  0  0]\n",
      " [ 0  0  0  0  0  0  0  0  0  0]\n",
      " [ 0  0  0  0  0  0  0  0  0  0]\n",
      " [ 0  0  0  0  0  0  0  0  0  0]\n",
      " [ 0  0  0  0  0  0  0  0  0  0]\n",
      " [ 0  0  0  0  0  0  0  0  0  0]\n",
      " [ 0  0  0  0  0  0  0  0  0  0]\n",
      " [ 0  0  0  0  0  0  0  0  0  0]\n",
      " [ 0  0  0  0  0  0  0  0  0  0]\n",
      " [ 0  0  0  0  0  0  0  0  0  0]\n",
      " [ 0  0  0  0  0  0  0  0  0  0]\n",
      " [ 0  0  0  0  0  0  0  0  0  0]\n",
      " [ 0  0  0  0  0  0  0  0  0  0]\n",
      " [ 0  0  0  0  0  0  0  0  0  0]\n",
      " [ 0  0  0  0  0  0  0  0  0  0]\n",
      " [ 0  0  0  0  0  0  0  0  0  0]\n",
      " [ 0  0  0  0  0  0  0  0  0  0]\n",
      " [ 0  0  0  0  0  0  0  0  0  0]\n",
      " [ 0  0  0  0  0  0  0  0  0  0]\n",
      " [ 0  0  0  0  0  0  0  0  0  0]\n",
      " [ 0  0  0  0  0  0  0  0  0  0]\n",
      " [ 0  0  0  0  0  0  0  0  0  0]\n",
      " [ 0  0  0  0  0  0  0  0  0  0]\n",
      " [ 0  0  0  0  0  0  0  0  0  0]\n",
      " [ 0  0  0  0  0  0  0  0  0  0]\n",
      " [ 0  0  0  0  0  0  0  0  0  0]\n",
      " [ 0  0  0  0  0  0  0  0  0  0]\n",
      " [ 0  0  0  0  0  0  0  0  0  0]\n",
      " [ 0  0  0  0  0  0  0  0  0  0]\n",
      " [ 0  0  0  0  0  0  0  0  0  0]\n",
      " [ 0  0  0  0  0  0  0  0  0  0]\n",
      " [ 0  0  0  0  0  0  0  0  0  0]\n",
      " [ 0  0  0  0  0  0  0  0  0  0]\n",
      " [ 0  0  0  0  0  0  0  0  0  0]\n",
      " [ 0  0  0  0  0  0  0  0  0  0]\n",
      " [ 0  0  0  0  0  0  0  0  0  0]\n",
      " [ 0  0  0  0  0  0  0  0  0  0]\n",
      " [ 0  0  0  0  0  0  0  0  0  0]\n",
      " [ 0  0  0  0  0  0  0  0  0  0]]\n"
     ]
    }
   ],
   "source": [
    "print(sentences[0])\n",
    "print(X_char[0])"
   ]
  },
  {
   "cell_type": "markdown",
   "metadata": {},
   "source": [
    "## 2. Word embeddings"
   ]
  },
  {
   "cell_type": "code",
   "execution_count": 57,
   "metadata": {},
   "outputs": [],
   "source": [
    "# Create a mapping for the labels (tags) and words\n",
    "labelSet = set()\n",
    "words = set()\n",
    "for sentence in sentences:\n",
    "    for token,label in sentence:\n",
    "            labelSet.add(label)\n",
    "            words.add(token)\n",
    "\n",
    "\n",
    "label2Idx = {}\n",
    "for label in labelSet:\n",
    "    label2Idx[label] = len(label2Idx) +1\n",
    "label2Idx[\"PAD\"] = 0\n",
    "    \n",
    "word2Idx = {}\n",
    "for word in words:\n",
    "    word2Idx[word] = len(word2Idx)\n",
    "word2Idx[\"PAD\"] = 0\n",
    "\n",
    "idx2label={i: l for l,i in label2Idx.items()}\n",
    "idx2word = {i: w for w,i in word2Idx.items()}\n",
    "    "
   ]
  },
  {
   "cell_type": "code",
   "execution_count": 58,
   "metadata": {},
   "outputs": [
    {
     "data": {
      "text/plain": [
       "{'B-eve': 1,\n",
       " 'B-org': 2,\n",
       " 'B-geo': 3,\n",
       " 'O': 4,\n",
       " 'I-per': 5,\n",
       " 'B-nat': 6,\n",
       " 'I-eve': 7,\n",
       " 'I-tim': 8,\n",
       " 'B-art': 9,\n",
       " 'I-org': 10,\n",
       " 'B-tim': 11,\n",
       " 'B-per': 12,\n",
       " 'I-gpe': 13,\n",
       " 'I-geo': 14,\n",
       " 'I-nat': 15,\n",
       " 'I-art': 16,\n",
       " 'B-gpe': 17,\n",
       " 'PAD': 0}"
      ]
     },
     "execution_count": 58,
     "metadata": {},
     "output_type": "execute_result"
    }
   ],
   "source": [
    "label2Idx"
   ]
  },
  {
   "cell_type": "code",
   "execution_count": 59,
   "metadata": {},
   "outputs": [
    {
     "name": "stdout",
     "output_type": "stream",
     "text": [
      "[5621, 27764, 14393, 31962, 13840, 31704, 5483, 30939, 12942, 25136, 18819, 14963, 1885, 32270, 21856, 25136, 6619, 27764, 14116, 3952, 21873, 23063, 25909, 25008]\n"
     ]
    }
   ],
   "source": [
    "#map the words in each sentence to its id\n",
    "X_word = [[word2Idx[w[0]] for w in s] for s in sentences]\n",
    "print(X_word[0])"
   ]
  },
  {
   "cell_type": "code",
   "execution_count": 60,
   "metadata": {},
   "outputs": [
    {
     "name": "stdout",
     "output_type": "stream",
     "text": [
      "[ 5621 27764 14393 31962 13840 31704  5483 30939 12942 25136 18819 14963\n",
      "  1885 32270 21856 25136  6619 27764 14116  3952 21873 23063 25909 25008\n",
      "     0     0     0     0     0     0     0     0     0     0     0     0\n",
      "     0     0     0     0     0     0     0     0     0     0     0     0\n",
      "     0     0     0     0     0     0     0     0     0     0     0     0\n",
      "     0     0     0     0     0     0     0     0     0     0     0     0\n",
      "     0     0     0]\n"
     ]
    }
   ],
   "source": [
    "#pad the sentences since for tensorflow we need sentences with equal length\n",
    "X_word = pad_sequences(maxlen=max_len, sequences=X_word, value=word2Idx[\"PAD\"], padding='post', truncating='post')\n",
    "print(X_word[0])"
   ]
  },
  {
   "cell_type": "markdown",
   "metadata": {},
   "source": [
    "## 3. Model training"
   ]
  },
  {
   "cell_type": "code",
   "execution_count": 61,
   "metadata": {},
   "outputs": [
    {
     "data": {
      "text/plain": [
       "array([ 4,  4,  4,  4,  4,  4,  3,  4,  4,  4,  4,  4,  3,  4,  4,  4,  4,\n",
       "        4, 17,  4,  4,  4,  4,  4,  0,  0,  0,  0,  0,  0,  0,  0,  0,  0,\n",
       "        0,  0,  0,  0,  0,  0,  0,  0,  0,  0,  0,  0,  0,  0,  0,  0,  0,\n",
       "        0,  0,  0,  0,  0,  0,  0,  0,  0,  0,  0,  0,  0,  0,  0,  0,  0,\n",
       "        0,  0,  0,  0,  0,  0,  0])"
      ]
     },
     "execution_count": 61,
     "metadata": {},
     "output_type": "execute_result"
    }
   ],
   "source": [
    "#do the mapping and padding for the labal sequence\n",
    "y = [[label2Idx[w[1]] for w in s] for s in sentences]\n",
    "y = pad_sequences(maxlen=max_len, sequences=y, value=label2Idx[\"PAD\"], padding='post', truncating='post')\n",
    "y[0]"
   ]
  },
  {
   "cell_type": "code",
   "execution_count": 62,
   "metadata": {},
   "outputs": [],
   "source": [
    "#separate data to train and test data\n",
    "\n",
    "X_word_tr, X_word_te, y_tr, y_te = train_test_split(X_word, y, test_size=0.1, random_state=2018)\n",
    "X_char_tr, X_char_te, _, _ = train_test_split(X_char, y, test_size=0.1, random_state=2018)\n"
   ]
  },
  {
   "cell_type": "markdown",
   "metadata": {},
   "source": [
    "# Model with LSTM layer for char embeddings"
   ]
  },
  {
   "cell_type": "code",
   "execution_count": 63,
   "metadata": {},
   "outputs": [],
   "source": [
    "# input and embedding for words\n",
    "word_in_1 = Input(shape=(max_len,))\n",
    "emb_word_1 = Embedding(input_dim=len(word2Idx), output_dim=20,\n",
    "                     input_length=max_len, mask_zero=True)(word_in_1)\n",
    "\n",
    "# input and embeddings for characters\n",
    "char_in_1 = Input(shape=(max_len, max_len_char,))\n",
    "embed_char_out_1 = TimeDistributed(Embedding(input_dim=len(char2idx), output_dim=10,\n",
    "                           embeddings_initializer=RandomUniform(minval=-0.5, maxval=0.5)), name='char_embedding')(char_in_1)\n",
    "\n",
    "# character LSTM to get word encodings by characters\n",
    "char_enc_1 = TimeDistributed(LSTM(units=20, return_sequences=False,\n",
    "                                recurrent_dropout=0.5))(embed_char_out_1)\n",
    "\n",
    "# main LSTM\n",
    "x = concatenate([emb_word_1, char_enc_1])\n",
    "x = SpatialDropout1D(0.3)(x)\n",
    "main_lstm = Bidirectional(LSTM(units=50, return_sequences=True,\n",
    "                               recurrent_dropout=0.6))(x)\n",
    "out = TimeDistributed(Dense(len(label2Idx), activation=\"sigmoid\"))(main_lstm)\n",
    "\n",
    "model_1 = Model([word_in_1, char_in_1], out)"
   ]
  },
  {
   "cell_type": "code",
   "execution_count": 64,
   "metadata": {},
   "outputs": [
    {
     "name": "stdout",
     "output_type": "stream",
     "text": [
      "Model: \"model_3\"\n",
      "__________________________________________________________________________________________________\n",
      "Layer (type)                    Output Shape         Param #     Connected to                     \n",
      "==================================================================================================\n",
      "input_6 (InputLayer)            (None, 75, 10)       0                                            \n",
      "__________________________________________________________________________________________________\n",
      "input_5 (InputLayer)            (None, 75)           0                                            \n",
      "__________________________________________________________________________________________________\n",
      "char_embedding (TimeDistributed (None, 75, 10, 10)   990         input_6[0][0]                    \n",
      "__________________________________________________________________________________________________\n",
      "embedding_5 (Embedding)         (None, 75, 20)       703560      input_5[0][0]                    \n",
      "__________________________________________________________________________________________________\n",
      "time_distributed_5 (TimeDistrib (None, 75, 20)       2480        char_embedding[0][0]             \n",
      "__________________________________________________________________________________________________\n",
      "concatenate_3 (Concatenate)     (None, 75, 40)       0           embedding_5[0][0]                \n",
      "                                                                 time_distributed_5[0][0]         \n",
      "__________________________________________________________________________________________________\n",
      "spatial_dropout1d_3 (SpatialDro (None, 75, 40)       0           concatenate_3[0][0]              \n",
      "__________________________________________________________________________________________________\n",
      "bidirectional_3 (Bidirectional) (None, 75, 100)      36400       spatial_dropout1d_3[0][0]        \n",
      "__________________________________________________________________________________________________\n",
      "time_distributed_6 (TimeDistrib (None, 75, 18)       1818        bidirectional_3[0][0]            \n",
      "==================================================================================================\n",
      "Total params: 745,248\n",
      "Trainable params: 745,248\n",
      "Non-trainable params: 0\n",
      "__________________________________________________________________________________________________\n"
     ]
    }
   ],
   "source": [
    "model_1.compile(loss='sparse_categorical_crossentropy', optimizer='nadam', metrics=[\"acc\"])\n",
    "model_1.summary()"
   ]
  },
  {
   "cell_type": "code",
   "execution_count": 65,
   "metadata": {},
   "outputs": [
    {
     "name": "stdout",
     "output_type": "stream",
     "text": [
      "Train on 34530 samples, validate on 8633 samples\n",
      "Epoch 1/10\n",
      "34530/34530 [==============================] - 110s 3ms/step - loss: 0.0943 - acc: 0.9174 - val_loss: 0.0422 - val_acc: 0.9572\n",
      "Epoch 2/10\n",
      "34530/34530 [==============================] - 119s 3ms/step - loss: 0.0364 - acc: 0.9640 - val_loss: 0.0344 - val_acc: 0.9653\n",
      "Epoch 3/10\n",
      "34530/34530 [==============================] - 123s 4ms/step - loss: 0.0294 - acc: 0.9701 - val_loss: 0.0322 - val_acc: 0.9670\n",
      "Epoch 4/10\n",
      "34530/34530 [==============================] - 122s 4ms/step - loss: 0.0262 - acc: 0.9725 - val_loss: 0.0318 - val_acc: 0.9674\n",
      "Epoch 5/10\n",
      "34530/34530 [==============================] - 122s 4ms/step - loss: 0.0240 - acc: 0.9743 - val_loss: 0.0316 - val_acc: 0.9675\n",
      "Epoch 6/10\n",
      "34530/34530 [==============================] - 125s 4ms/step - loss: 0.0226 - acc: 0.9756 - val_loss: 0.0313 - val_acc: 0.9681\n",
      "Epoch 7/10\n",
      "34530/34530 [==============================] - 122s 4ms/step - loss: 0.0214 - acc: 0.9767 - val_loss: 0.0315 - val_acc: 0.9677\n",
      "Epoch 8/10\n",
      "34530/34530 [==============================] - 124s 4ms/step - loss: 0.0206 - acc: 0.9775 - val_loss: 0.0314 - val_acc: 0.9683\n",
      "Epoch 9/10\n",
      "34530/34530 [==============================] - 124s 4ms/step - loss: 0.0197 - acc: 0.9782 - val_loss: 0.0315 - val_acc: 0.9678\n",
      "Epoch 10/10\n",
      "34530/34530 [==============================] - 123s 4ms/step - loss: 0.0189 - acc: 0.9791 - val_loss: 0.0318 - val_acc: 0.9686\n"
     ]
    }
   ],
   "source": [
    "history_1 = model_1.fit([X_word_tr,\n",
    "                     np.array(X_char_tr).reshape((len(X_char_tr), max_len, max_len_char))],\n",
    "                    np.array(y_tr).reshape(len(y_tr), max_len, 1),\n",
    "                    batch_size=32, epochs=10, validation_split=0.2, verbose=1)"
   ]
  },
  {
   "cell_type": "code",
   "execution_count": 66,
   "metadata": {},
   "outputs": [
    {
     "data": {
      "text/html": [
       "<div>\n",
       "<style scoped>\n",
       "    .dataframe tbody tr th:only-of-type {\n",
       "        vertical-align: middle;\n",
       "    }\n",
       "\n",
       "    .dataframe tbody tr th {\n",
       "        vertical-align: top;\n",
       "    }\n",
       "\n",
       "    .dataframe thead th {\n",
       "        text-align: right;\n",
       "    }\n",
       "</style>\n",
       "<table border=\"1\" class=\"dataframe\">\n",
       "  <thead>\n",
       "    <tr style=\"text-align: right;\">\n",
       "      <th></th>\n",
       "      <th>val_loss</th>\n",
       "      <th>val_acc</th>\n",
       "      <th>loss</th>\n",
       "      <th>acc</th>\n",
       "    </tr>\n",
       "  </thead>\n",
       "  <tbody>\n",
       "    <tr>\n",
       "      <th>0</th>\n",
       "      <td>0.042198</td>\n",
       "      <td>0.957177</td>\n",
       "      <td>0.094314</td>\n",
       "      <td>0.917382</td>\n",
       "    </tr>\n",
       "    <tr>\n",
       "      <th>1</th>\n",
       "      <td>0.034391</td>\n",
       "      <td>0.965263</td>\n",
       "      <td>0.036379</td>\n",
       "      <td>0.964043</td>\n",
       "    </tr>\n",
       "    <tr>\n",
       "      <th>2</th>\n",
       "      <td>0.032238</td>\n",
       "      <td>0.967003</td>\n",
       "      <td>0.029406</td>\n",
       "      <td>0.970116</td>\n",
       "    </tr>\n",
       "    <tr>\n",
       "      <th>3</th>\n",
       "      <td>0.031757</td>\n",
       "      <td>0.967423</td>\n",
       "      <td>0.026185</td>\n",
       "      <td>0.972480</td>\n",
       "    </tr>\n",
       "    <tr>\n",
       "      <th>4</th>\n",
       "      <td>0.031587</td>\n",
       "      <td>0.967523</td>\n",
       "      <td>0.024014</td>\n",
       "      <td>0.974314</td>\n",
       "    </tr>\n",
       "    <tr>\n",
       "      <th>5</th>\n",
       "      <td>0.031251</td>\n",
       "      <td>0.968112</td>\n",
       "      <td>0.022637</td>\n",
       "      <td>0.975593</td>\n",
       "    </tr>\n",
       "    <tr>\n",
       "      <th>6</th>\n",
       "      <td>0.031519</td>\n",
       "      <td>0.967720</td>\n",
       "      <td>0.021399</td>\n",
       "      <td>0.976716</td>\n",
       "    </tr>\n",
       "    <tr>\n",
       "      <th>7</th>\n",
       "      <td>0.031386</td>\n",
       "      <td>0.968330</td>\n",
       "      <td>0.020610</td>\n",
       "      <td>0.977478</td>\n",
       "    </tr>\n",
       "    <tr>\n",
       "      <th>8</th>\n",
       "      <td>0.031467</td>\n",
       "      <td>0.967836</td>\n",
       "      <td>0.019673</td>\n",
       "      <td>0.978192</td>\n",
       "    </tr>\n",
       "    <tr>\n",
       "      <th>9</th>\n",
       "      <td>0.031764</td>\n",
       "      <td>0.968638</td>\n",
       "      <td>0.018870</td>\n",
       "      <td>0.979117</td>\n",
       "    </tr>\n",
       "  </tbody>\n",
       "</table>\n",
       "</div>"
      ],
      "text/plain": [
       "   val_loss   val_acc      loss       acc\n",
       "0  0.042198  0.957177  0.094314  0.917382\n",
       "1  0.034391  0.965263  0.036379  0.964043\n",
       "2  0.032238  0.967003  0.029406  0.970116\n",
       "3  0.031757  0.967423  0.026185  0.972480\n",
       "4  0.031587  0.967523  0.024014  0.974314\n",
       "5  0.031251  0.968112  0.022637  0.975593\n",
       "6  0.031519  0.967720  0.021399  0.976716\n",
       "7  0.031386  0.968330  0.020610  0.977478\n",
       "8  0.031467  0.967836  0.019673  0.978192\n",
       "9  0.031764  0.968638  0.018870  0.979117"
      ]
     },
     "execution_count": 66,
     "metadata": {},
     "output_type": "execute_result"
    }
   ],
   "source": [
    "hist_1 = pd.DataFrame(history_1.history)\n",
    "hist_1"
   ]
  },
  {
   "cell_type": "code",
   "execution_count": 67,
   "metadata": {},
   "outputs": [
    {
     "data": {
      "image/png": "[encoded data removed]",
      "text/plain": [
       "<Figure size 864x864 with 1 Axes>"
      ]
     },
     "metadata": {},
     "output_type": "display_data"
    }
   ],
   "source": [
    "plt.style.use(\"ggplot\")\n",
    "plt.figure(figsize=(12,12))\n",
    "plt.plot(hist_1[\"acc\"])\n",
    "plt.plot(hist_1[\"val_acc\"])\n",
    "plt.show()"
   ]
  },
  {
   "cell_type": "code",
   "execution_count": 68,
   "metadata": {},
   "outputs": [],
   "source": [
    "y_pred_1 = model_1.predict([X_word_te,\n",
    "                        np.array(X_char_te).reshape((len(X_char_te),\n",
    "                                                     max_len, max_len_char))])"
   ]
  },
  {
   "cell_type": "code",
   "execution_count": 69,
   "metadata": {},
   "outputs": [
    {
     "name": "stdout",
     "output_type": "stream",
     "text": [
      "Word           ||True ||Pred\n",
      "==============================\n",
      "On             : O     O\n",
      "Monday         : B-tim B-tim\n",
      ",              : O     O\n",
      "British        : B-org B-gpe\n",
      "Foreign        : I-org O\n",
      "Secretary      : B-per B-per\n",
      "Jack           : I-per I-per\n",
      "Straw          : I-per I-per\n",
      "said           : O     O\n",
      "his            : O     O\n",
      "government     : O     O\n",
      "has            : O     O\n",
      "found          : O     O\n",
      "no             : O     O\n",
      "evidence       : O     O\n",
      "the            : O     O\n",
      "Bush           : B-org B-geo\n",
      "administration : O     O\n",
      "requested      : O     O\n",
      "permission     : O     O\n",
      "to             : O     O\n",
      "fly            : O     O\n",
      "terror         : O     O\n",
      "suspects       : O     O\n",
      "through        : O     O\n",
      "Britain        : B-geo B-geo\n",
      "or             : O     O\n",
      "its            : O     O\n",
      "airspace       : O     O\n",
      ".              : O     O\n"
     ]
    }
   ],
   "source": [
    "i = 1925\n",
    "p = np.argmax(y_pred_1[i], axis=-1)\n",
    "print(\"{:15}||{:5}||{}\".format(\"Word\", \"True\", \"Pred\"))\n",
    "print(30 * \"=\")\n",
    "for w, t, pred in zip(X_word_te[i], y_te[i], p):\n",
    "    if w != 0:\n",
    "        print(\"{:15}: {:5} {}\".format(idx2word[w], idx2label[t], idx2label[pred]))"
   ]
  },
  {
   "cell_type": "code",
   "execution_count": 108,
   "metadata": {},
   "outputs": [],
   "source": [
    "y_true_test_1 = []\n",
    "y_pred_test_1 = []\n",
    "for i in range(len(y_pred_1)):\n",
    "    p = np.argmax(y_pred_1[i], axis=-1)\n",
    "    for w, t, pred in zip(X_word_te[i], y_te[i], p):\n",
    "        if w != 0:\n",
    "            y_true_test_1.append(idx2label[t])\n",
    "            y_pred_test_1.append(idx2label[pred])"
   ]
  },
  {
   "cell_type": "code",
   "execution_count": 109,
   "metadata": {},
   "outputs": [
    {
     "name": "stdout",
     "output_type": "stream",
     "text": [
      "              precision    recall  f1-score   support\n",
      "\n",
      "       B-art       0.42      0.10      0.16        49\n",
      "       B-eve       0.75      0.27      0.40        33\n",
      "       B-geo       0.85      0.91      0.88      3735\n",
      "       B-gpe       0.95      0.94      0.95      1596\n",
      "       B-nat       0.83      0.22      0.34        23\n",
      "       B-org       0.81      0.70      0.75      2071\n",
      "       B-per       0.86      0.83      0.84      1694\n",
      "       B-tim       0.92      0.87      0.90      2158\n",
      "       I-art       0.00      0.00      0.00        42\n",
      "       I-eve       0.33      0.12      0.18        33\n",
      "       I-geo       0.81      0.81      0.81       707\n",
      "       I-gpe       1.00      0.44      0.61        16\n",
      "       I-nat       0.75      0.60      0.67         5\n",
      "       I-org       0.81      0.80      0.80      1786\n",
      "       I-per       0.86      0.89      0.88      1739\n",
      "       I-tim       0.86      0.67      0.75       726\n",
      "           O       0.99      0.99      0.99     89144\n",
      "\n",
      "    accuracy                           0.97    105557\n",
      "   macro avg       0.75      0.60      0.64    105557\n",
      "weighted avg       0.97      0.97      0.97    105557\n",
      "\n"
     ]
    }
   ],
   "source": [
    "report_1 = classification_report(y_pred=y_pred_test_1, y_true=y_true_test_1)\n",
    "print(report_1)"
   ]
  },
  {
   "cell_type": "code",
   "execution_count": 114,
   "metadata": {},
   "outputs": [
    {
     "name": "stdout",
     "output_type": "stream",
     "text": [
      "F1-score: 82.3%\n"
     ]
    }
   ],
   "source": [
    "print(\"F1-score: {:.1%}\".format(f1_score(y_true_test_1, y_pred_test_1, average = \"weighted\")))"
   ]
  },
  {
   "cell_type": "markdown",
   "metadata": {},
   "source": [
    "# Model with Convolutional and MaxPooling layers for char embeddings"
   ]
  },
  {
   "cell_type": "code",
   "execution_count": 77,
   "metadata": {},
   "outputs": [
    {
     "name": "stdout",
     "output_type": "stream",
     "text": [
      "WARNING:tensorflow:From C:\\Users\\linar\\anaconda3\\lib\\site-packages\\keras\\backend\\tensorflow_backend.py:4070: The name tf.nn.max_pool is deprecated. Please use tf.nn.max_pool2d instead.\n",
      "\n"
     ]
    }
   ],
   "source": [
    "# input and embedding for words\n",
    "word_in_2 = Input(shape=(max_len,), name='words_input')\n",
    "emb_word_2 = Embedding(input_dim=len(word2Idx), output_dim=20,\n",
    "                     input_length=max_len, mask_zero=True)(word_in_2)\n",
    "\n",
    "# input and embeddings for characters\n",
    "char_in_2 = Input(shape=(max_len, max_len_char,), name='char_input')\n",
    "embed_char_out_2 = TimeDistributed(Embedding(input_dim=len(char2idx), output_dim=10,\n",
    "                           embeddings_initializer=RandomUniform(minval=-0.5, maxval=0.5)), name='char_embedding')(char_in_2)\n",
    "\n",
    "#the char embeddings are going through CNN and MaxPooling layer\n",
    "dropout= Dropout(0.5)(embed_char_out_2)\n",
    "conv1d_out= TimeDistributed(Conv1D(kernel_size=3, filters=10, padding='same',activation='tanh', strides=1))(dropout)\n",
    "maxpool_out=TimeDistributed(MaxPooling1D(max_len_char))(conv1d_out)\n",
    "char = TimeDistributed(Flatten())(maxpool_out)\n",
    "char = Dropout(0.5)(char)\n",
    "\n",
    "# main LSTM\n",
    "x_2 = concatenate([emb_word_2, char])\n",
    "output = Bidirectional(LSTM(50, return_sequences=True, recurrent_dropout=0.6))(x_2)\n",
    "output = TimeDistributed(Dense(len(label2Idx), activation='softmax'))(output)\n",
    "\n",
    "\n",
    "model_2 = Model(inputs=[word_in_2, char_in_2], outputs=[output])\n",
    "\n"
   ]
  },
  {
   "cell_type": "code",
   "execution_count": 78,
   "metadata": {},
   "outputs": [
    {
     "name": "stdout",
     "output_type": "stream",
     "text": [
      "Model: \"model_4\"\n",
      "__________________________________________________________________________________________________\n",
      "Layer (type)                    Output Shape         Param #     Connected to                     \n",
      "==================================================================================================\n",
      "char_input (InputLayer)         (None, 75, 10)       0                                            \n",
      "__________________________________________________________________________________________________\n",
      "char_embedding (TimeDistributed (None, 75, 10, 10)   990         char_input[0][0]                 \n",
      "__________________________________________________________________________________________________\n",
      "dropout_1 (Dropout)             (None, 75, 10, 10)   0           char_embedding[0][0]             \n",
      "__________________________________________________________________________________________________\n",
      "time_distributed_7 (TimeDistrib (None, 75, 10, 10)   310         dropout_1[0][0]                  \n",
      "__________________________________________________________________________________________________\n",
      "time_distributed_8 (TimeDistrib (None, 75, 1, 10)    0           time_distributed_7[0][0]         \n",
      "__________________________________________________________________________________________________\n",
      "words_input (InputLayer)        (None, 75)           0                                            \n",
      "__________________________________________________________________________________________________\n",
      "time_distributed_9 (TimeDistrib (None, 75, 10)       0           time_distributed_8[0][0]         \n",
      "__________________________________________________________________________________________________\n",
      "embedding_7 (Embedding)         (None, 75, 20)       703560      words_input[0][0]                \n",
      "__________________________________________________________________________________________________\n",
      "dropout_2 (Dropout)             (None, 75, 10)       0           time_distributed_9[0][0]         \n",
      "__________________________________________________________________________________________________\n",
      "concatenate_4 (Concatenate)     (None, 75, 30)       0           embedding_7[0][0]                \n",
      "                                                                 dropout_2[0][0]                  \n",
      "__________________________________________________________________________________________________\n",
      "bidirectional_4 (Bidirectional) (None, 75, 100)      32400       concatenate_4[0][0]              \n",
      "__________________________________________________________________________________________________\n",
      "time_distributed_10 (TimeDistri (None, 75, 18)       1818        bidirectional_4[0][0]            \n",
      "==================================================================================================\n",
      "Total params: 739,078\n",
      "Trainable params: 739,078\n",
      "Non-trainable params: 0\n",
      "__________________________________________________________________________________________________\n"
     ]
    }
   ],
   "source": [
    "model_2.compile(loss='sparse_categorical_crossentropy', optimizer='nadam', metrics=[\"acc\"])\n",
    "model_2.summary()"
   ]
  },
  {
   "cell_type": "code",
   "execution_count": 79,
   "metadata": {},
   "outputs": [
    {
     "name": "stdout",
     "output_type": "stream",
     "text": [
      "Train on 34530 samples, validate on 8633 samples\n",
      "Epoch 1/10\n",
      "34530/34530 [==============================] - 72s 2ms/step - loss: 0.0809 - acc: 0.9278 - val_loss: 0.0394 - val_acc: 0.9602\n",
      "Epoch 2/10\n",
      "34530/34530 [==============================] - 82s 2ms/step - loss: 0.0314 - acc: 0.9677 - val_loss: 0.0382 - val_acc: 0.9601\n",
      "Epoch 3/10\n",
      "34530/34530 [==============================] - 86s 2ms/step - loss: 0.0245 - acc: 0.9741 - val_loss: 0.0326 - val_acc: 0.9667\n",
      "Epoch 4/10\n",
      "34530/34530 [==============================] - 87s 3ms/step - loss: 0.0210 - acc: 0.9771 - val_loss: 0.0328 - val_acc: 0.9665\n",
      "Epoch 5/10\n",
      "34530/34530 [==============================] - 86s 2ms/step - loss: 0.0185 - acc: 0.9794 - val_loss: 0.0329 - val_acc: 0.9674\n",
      "Epoch 6/10\n",
      "34530/34530 [==============================] - 87s 3ms/step - loss: 0.0167 - acc: 0.9814 - val_loss: 0.0339 - val_acc: 0.9670\n",
      "Epoch 7/10\n",
      "34530/34530 [==============================] - 86s 2ms/step - loss: 0.0150 - acc: 0.9828 - val_loss: 0.0351 - val_acc: 0.9667\n",
      "Epoch 8/10\n",
      "34530/34530 [==============================] - 87s 3ms/step - loss: 0.0136 - acc: 0.9843 - val_loss: 0.0367 - val_acc: 0.9665\n",
      "Epoch 9/10\n",
      "34530/34530 [==============================] - 88s 3ms/step - loss: 0.0126 - acc: 0.9856 - val_loss: 0.0378 - val_acc: 0.9657\n",
      "Epoch 10/10\n",
      "34530/34530 [==============================] - 85s 2ms/step - loss: 0.0115 - acc: 0.9868 - val_loss: 0.0396 - val_acc: 0.9653\n"
     ]
    }
   ],
   "source": [
    "history_2 = model_2.fit([X_word_tr,\n",
    "                     np.array(X_char_tr).reshape((len(X_char_tr), max_len, max_len_char))],\n",
    "                    np.array(y_tr).reshape(len(y_tr), max_len, 1),\n",
    "                    batch_size=32, epochs=10, validation_split=0.2, verbose=1)"
   ]
  },
  {
   "cell_type": "code",
   "execution_count": 80,
   "metadata": {},
   "outputs": [],
   "source": [
    "y_pred_2 = model_2.predict([X_word_te,\n",
    "                        np.array(X_char_te).reshape((len(X_char_te),\n",
    "                                                     max_len, max_len_char))])"
   ]
  },
  {
   "cell_type": "code",
   "execution_count": 81,
   "metadata": {},
   "outputs": [
    {
     "data": {
      "text/html": [
       "<div>\n",
       "<style scoped>\n",
       "    .dataframe tbody tr th:only-of-type {\n",
       "        vertical-align: middle;\n",
       "    }\n",
       "\n",
       "    .dataframe tbody tr th {\n",
       "        vertical-align: top;\n",
       "    }\n",
       "\n",
       "    .dataframe thead th {\n",
       "        text-align: right;\n",
       "    }\n",
       "</style>\n",
       "<table border=\"1\" class=\"dataframe\">\n",
       "  <thead>\n",
       "    <tr style=\"text-align: right;\">\n",
       "      <th></th>\n",
       "      <th>val_loss</th>\n",
       "      <th>val_acc</th>\n",
       "      <th>loss</th>\n",
       "      <th>acc</th>\n",
       "    </tr>\n",
       "  </thead>\n",
       "  <tbody>\n",
       "    <tr>\n",
       "      <th>0</th>\n",
       "      <td>0.039424</td>\n",
       "      <td>0.960233</td>\n",
       "      <td>0.080878</td>\n",
       "      <td>0.927826</td>\n",
       "    </tr>\n",
       "    <tr>\n",
       "      <th>1</th>\n",
       "      <td>0.038221</td>\n",
       "      <td>0.960058</td>\n",
       "      <td>0.031392</td>\n",
       "      <td>0.967710</td>\n",
       "    </tr>\n",
       "    <tr>\n",
       "      <th>2</th>\n",
       "      <td>0.032580</td>\n",
       "      <td>0.966749</td>\n",
       "      <td>0.024476</td>\n",
       "      <td>0.974069</td>\n",
       "    </tr>\n",
       "    <tr>\n",
       "      <th>3</th>\n",
       "      <td>0.032816</td>\n",
       "      <td>0.966457</td>\n",
       "      <td>0.020982</td>\n",
       "      <td>0.977092</td>\n",
       "    </tr>\n",
       "    <tr>\n",
       "      <th>4</th>\n",
       "      <td>0.032919</td>\n",
       "      <td>0.967438</td>\n",
       "      <td>0.018542</td>\n",
       "      <td>0.979412</td>\n",
       "    </tr>\n",
       "    <tr>\n",
       "      <th>5</th>\n",
       "      <td>0.033855</td>\n",
       "      <td>0.967009</td>\n",
       "      <td>0.016667</td>\n",
       "      <td>0.981380</td>\n",
       "    </tr>\n",
       "    <tr>\n",
       "      <th>6</th>\n",
       "      <td>0.035098</td>\n",
       "      <td>0.966664</td>\n",
       "      <td>0.015040</td>\n",
       "      <td>0.982815</td>\n",
       "    </tr>\n",
       "    <tr>\n",
       "      <th>7</th>\n",
       "      <td>0.036669</td>\n",
       "      <td>0.966457</td>\n",
       "      <td>0.013643</td>\n",
       "      <td>0.984297</td>\n",
       "    </tr>\n",
       "    <tr>\n",
       "      <th>8</th>\n",
       "      <td>0.037827</td>\n",
       "      <td>0.965682</td>\n",
       "      <td>0.012584</td>\n",
       "      <td>0.985572</td>\n",
       "    </tr>\n",
       "    <tr>\n",
       "      <th>9</th>\n",
       "      <td>0.039582</td>\n",
       "      <td>0.965306</td>\n",
       "      <td>0.011499</td>\n",
       "      <td>0.986778</td>\n",
       "    </tr>\n",
       "  </tbody>\n",
       "</table>\n",
       "</div>"
      ],
      "text/plain": [
       "   val_loss   val_acc      loss       acc\n",
       "0  0.039424  0.960233  0.080878  0.927826\n",
       "1  0.038221  0.960058  0.031392  0.967710\n",
       "2  0.032580  0.966749  0.024476  0.974069\n",
       "3  0.032816  0.966457  0.020982  0.977092\n",
       "4  0.032919  0.967438  0.018542  0.979412\n",
       "5  0.033855  0.967009  0.016667  0.981380\n",
       "6  0.035098  0.966664  0.015040  0.982815\n",
       "7  0.036669  0.966457  0.013643  0.984297\n",
       "8  0.037827  0.965682  0.012584  0.985572\n",
       "9  0.039582  0.965306  0.011499  0.986778"
      ]
     },
     "execution_count": 81,
     "metadata": {},
     "output_type": "execute_result"
    }
   ],
   "source": [
    "hist_2 = pd.DataFrame(history_2.history)\n",
    "hist_2"
   ]
  },
  {
   "cell_type": "code",
   "execution_count": 82,
   "metadata": {},
   "outputs": [
    {
     "data": {
      "image/png": "[encoded data removed]",
      "text/plain": [
       "<Figure size 864x864 with 1 Axes>"
      ]
     },
     "metadata": {},
     "output_type": "display_data"
    }
   ],
   "source": [
    "import matplotlib.pyplot as plt\n",
    "plt.style.use(\"ggplot\")\n",
    "plt.figure(figsize=(12,12))\n",
    "plt.plot(hist_2[\"acc\"])\n",
    "plt.plot(hist_2[\"val_acc\"])\n",
    "plt.show()"
   ]
  },
  {
   "cell_type": "code",
   "execution_count": 83,
   "metadata": {},
   "outputs": [
    {
     "name": "stdout",
     "output_type": "stream",
     "text": [
      "Word           ||True ||Pred\n",
      "==============================\n",
      "On             : O     O\n",
      "Monday         : B-tim B-tim\n",
      ",              : O     O\n",
      "British        : B-org B-org\n",
      "Foreign        : I-org I-org\n",
      "Secretary      : B-per B-per\n",
      "Jack           : I-per I-per\n",
      "Straw          : I-per I-per\n",
      "said           : O     O\n",
      "his            : O     O\n",
      "government     : O     O\n",
      "has            : O     O\n",
      "found          : O     O\n",
      "no             : O     O\n",
      "evidence       : O     O\n",
      "the            : O     O\n",
      "Bush           : B-org B-per\n",
      "administration : O     O\n",
      "requested      : O     O\n",
      "permission     : O     O\n",
      "to             : O     O\n",
      "fly            : O     O\n",
      "terror         : O     O\n",
      "suspects       : O     O\n",
      "through        : O     O\n",
      "Britain        : B-geo B-geo\n",
      "or             : O     O\n",
      "its            : O     O\n",
      "airspace       : O     O\n",
      ".              : O     O\n"
     ]
    }
   ],
   "source": [
    "i = 1925\n",
    "p = np.argmax(y_pred_2[i], axis=-1)\n",
    "print(\"{:15}||{:5}||{}\".format(\"Word\", \"True\", \"Pred\"))\n",
    "print(30 * \"=\")\n",
    "for w, t, pred in zip(X_word_te[i], y_te[i], p):\n",
    "    if w != 0:\n",
    "        print(\"{:15}: {:5} {}\".format(idx2word[w], idx2label[t], idx2label[pred]))"
   ]
  },
  {
   "cell_type": "code",
   "execution_count": 111,
   "metadata": {},
   "outputs": [],
   "source": [
    "y_true_test_2 = []\n",
    "y_pred_test_2 = []\n",
    "for i in range(len(y_pred_2)):\n",
    "    p = np.argmax(y_pred_2[i], axis=-1)\n",
    "    for w, t, pred in zip(X_word_te[i], y_te[i], p):\n",
    "        if w != 0:\n",
    "            y_true_test_2.append(idx2label[t])\n",
    "            y_pred_test_2.append(idx2label[pred])"
   ]
  },
  {
   "cell_type": "code",
   "execution_count": 112,
   "metadata": {
    "scrolled": false
   },
   "outputs": [
    {
     "name": "stdout",
     "output_type": "stream",
     "text": [
      "              precision    recall  f1-score   support\n",
      "\n",
      "       B-art       0.27      0.06      0.10        49\n",
      "       B-eve       0.48      0.36      0.41        33\n",
      "       B-geo       0.85      0.87      0.86      3735\n",
      "       B-gpe       0.96      0.92      0.94      1596\n",
      "       B-nat       0.38      0.52      0.44        23\n",
      "       B-org       0.74      0.73      0.73      2071\n",
      "       B-per       0.84      0.81      0.83      1694\n",
      "       B-tim       0.92      0.87      0.89      2158\n",
      "       I-art       0.25      0.02      0.04        42\n",
      "       I-eve       0.24      0.18      0.21        33\n",
      "       I-geo       0.80      0.77      0.78       707\n",
      "       I-gpe       0.70      0.44      0.54        16\n",
      "       I-nat       1.00      0.20      0.33         5\n",
      "       I-org       0.78      0.77      0.77      1786\n",
      "       I-per       0.86      0.86      0.86      1739\n",
      "       I-tim       0.82      0.70      0.75       726\n",
      "           O       0.99      0.99      0.99     89144\n",
      "\n",
      "    accuracy                           0.97    105557\n",
      "   macro avg       0.70      0.59      0.62    105557\n",
      "weighted avg       0.96      0.97      0.96    105557\n",
      "\n"
     ]
    }
   ],
   "source": [
    "report_2 = classification_report(y_pred=y_pred_test_2, y_true=y_true_test_2)\n",
    "print(report_2)"
   ]
  },
  {
   "cell_type": "code",
   "execution_count": 115,
   "metadata": {},
   "outputs": [
    {
     "name": "stdout",
     "output_type": "stream",
     "text": [
      "F1-score: 79.8%\n"
     ]
    }
   ],
   "source": [
    "print(\"F1-score: {:.1%}\".format(f1_score(y_true_test_2, y_pred_test_2, average = \"weighted\")))"
   ]
  },
  {
   "cell_type": "markdown",
   "metadata": {},
   "source": [
    "# Expand the model to BiLSTM-CNN-CRF"
   ]
  },
  {
   "cell_type": "code",
   "execution_count": 87,
   "metadata": {},
   "outputs": [
    {
     "data": {
      "text/plain": [
       "array([[0., 0., 0., ..., 0., 0., 0.],\n",
       "       [0., 0., 0., ..., 0., 0., 0.],\n",
       "       [0., 0., 0., ..., 0., 0., 0.],\n",
       "       ...,\n",
       "       [1., 0., 0., ..., 0., 0., 0.],\n",
       "       [1., 0., 0., ..., 0., 0., 0.],\n",
       "       [1., 0., 0., ..., 0., 0., 0.]], dtype=float32)"
      ]
     },
     "execution_count": 87,
     "metadata": {},
     "output_type": "execute_result"
    }
   ],
   "source": [
    "from keras.utils import to_categorical\n",
    "y_CRF = [to_categorical(i, num_classes=len(label2Idx)) for i in y]\n",
    "y_CRF[0]"
   ]
  },
  {
   "cell_type": "code",
   "execution_count": 88,
   "metadata": {},
   "outputs": [],
   "source": [
    "X_word_tr_CRF, X_word_te_CRF, y_tr_CRF, y_te_CRF = train_test_split(X_word, y_CRF, test_size=0.1, random_state=2018)\n",
    "X_char_tr_CRF, X_char_te_CRF, _, _ = train_test_split(X_char, y_CRF, test_size=0.1, random_state=2018)"
   ]
  },
  {
   "cell_type": "code",
   "execution_count": 89,
   "metadata": {},
   "outputs": [],
   "source": [
    "# input and embedding for words\n",
    "word_in_3 = Input(shape=(max_len,), name='words_input')\n",
    "emb_word_3 = Embedding(input_dim=len(word2Idx), output_dim=20,\n",
    "                     input_length=max_len)(word_in_3)\n",
    "\n",
    "# input and embeddings for characters\n",
    "char_in_3 = Input(shape=(max_len, max_len_char,), name='char_input')\n",
    "embed_char_out_3 = TimeDistributed(Embedding(input_dim=len(char2idx), output_dim=10,\n",
    "                           embeddings_initializer=RandomUniform(minval=-0.5, maxval=0.5)), name='char_embedding')(char_in_3)\n",
    "\n",
    "#the char embeddings are going through CNN and MaxPooling layer\n",
    "dropout= Dropout(0.5)(embed_char_out_3)\n",
    "conv1d_out= TimeDistributed(Conv1D(kernel_size=3, filters=10, padding='same',activation='tanh', strides=1))(dropout)\n",
    "maxpool_out=TimeDistributed(MaxPooling1D(max_len_char))(conv1d_out)\n",
    "char = TimeDistributed(Flatten())(maxpool_out)\n",
    "char = Dropout(0.5)(char)\n",
    "\n",
    "# main LSTM\n",
    "x_3 = concatenate([emb_word_3, char])\n",
    "output_3 = Bidirectional(LSTM(50, return_sequences=True, recurrent_dropout=0.6))(x_3)\n",
    "output_3 = TimeDistributed(Dense(50, activation=None))(output_3)\n",
    "\n",
    "\n",
    "crf = CRF(len(label2Idx))\n",
    "crf_output = crf(output_3)\n",
    "model_3 = Model(inputs=[word_in_3, char_in_3], outputs=[crf_output])\n",
    "\n"
   ]
  },
  {
   "cell_type": "code",
   "execution_count": 90,
   "metadata": {},
   "outputs": [
    {
     "name": "stderr",
     "output_type": "stream",
     "text": [
      "C:\\Users\\linar\\anaconda3\\lib\\site-packages\\keras_contrib\\layers\\crf.py:346: UserWarning: CRF.loss_function is deprecated and it might be removed in the future. Please use losses.crf_loss instead.\n",
      "  warnings.warn('CRF.loss_function is deprecated '\n",
      "C:\\Users\\linar\\anaconda3\\lib\\site-packages\\keras_contrib\\layers\\crf.py:353: UserWarning: CRF.accuracy is deprecated and it might be removed in the future. Please use metrics.crf_accuracy\n",
      "  warnings.warn('CRF.accuracy is deprecated and it '\n"
     ]
    },
    {
     "name": "stdout",
     "output_type": "stream",
     "text": [
      "Model: \"model_5\"\n",
      "__________________________________________________________________________________________________\n",
      "Layer (type)                    Output Shape         Param #     Connected to                     \n",
      "==================================================================================================\n",
      "char_input (InputLayer)         (None, 75, 10)       0                                            \n",
      "__________________________________________________________________________________________________\n",
      "char_embedding (TimeDistributed (None, 75, 10, 10)   990         char_input[0][0]                 \n",
      "__________________________________________________________________________________________________\n",
      "dropout_3 (Dropout)             (None, 75, 10, 10)   0           char_embedding[0][0]             \n",
      "__________________________________________________________________________________________________\n",
      "time_distributed_11 (TimeDistri (None, 75, 10, 10)   310         dropout_3[0][0]                  \n",
      "__________________________________________________________________________________________________\n",
      "time_distributed_12 (TimeDistri (None, 75, 1, 10)    0           time_distributed_11[0][0]        \n",
      "__________________________________________________________________________________________________\n",
      "words_input (InputLayer)        (None, 75)           0                                            \n",
      "__________________________________________________________________________________________________\n",
      "time_distributed_13 (TimeDistri (None, 75, 10)       0           time_distributed_12[0][0]        \n",
      "__________________________________________________________________________________________________\n",
      "embedding_9 (Embedding)         (None, 75, 20)       703560      words_input[0][0]                \n",
      "__________________________________________________________________________________________________\n",
      "dropout_4 (Dropout)             (None, 75, 10)       0           time_distributed_13[0][0]        \n",
      "__________________________________________________________________________________________________\n",
      "concatenate_5 (Concatenate)     (None, 75, 30)       0           embedding_9[0][0]                \n",
      "                                                                 dropout_4[0][0]                  \n",
      "__________________________________________________________________________________________________\n",
      "bidirectional_5 (Bidirectional) (None, 75, 100)      32400       concatenate_5[0][0]              \n",
      "__________________________________________________________________________________________________\n",
      "time_distributed_14 (TimeDistri (None, 75, 50)       5050        bidirectional_5[0][0]            \n",
      "__________________________________________________________________________________________________\n",
      "crf_1 (CRF)                     (None, 75, 18)       1278        time_distributed_14[0][0]        \n",
      "==================================================================================================\n",
      "Total params: 743,588\n",
      "Trainable params: 743,588\n",
      "Non-trainable params: 0\n",
      "__________________________________________________________________________________________________\n"
     ]
    }
   ],
   "source": [
    "model_3.compile(optimizer=\"rmsprop\", loss=crf.loss_function, metrics=[crf.accuracy])\n",
    "model_3.summary()"
   ]
  },
  {
   "cell_type": "code",
   "execution_count": 91,
   "metadata": {},
   "outputs": [
    {
     "name": "stdout",
     "output_type": "stream",
     "text": [
      "Train on 34530 samples, validate on 8633 samples\n",
      "Epoch 1/10\n",
      "34530/34530 [==============================] - 131s 4ms/step - loss: 0.1190 - crf_viterbi_accuracy: 0.9667 - val_loss: 0.0338 - val_crf_viterbi_accuracy: 0.9860\n",
      "Epoch 2/10\n",
      "34530/34530 [==============================] - 135s 4ms/step - loss: 0.0168 - crf_viterbi_accuracy: 0.9882 - val_loss: 0.0070 - val_crf_viterbi_accuracy: 0.9887\n",
      "Epoch 3/10\n",
      "34530/34530 [==============================] - 135s 4ms/step - loss: -0.0059 - crf_viterbi_accuracy: 0.9902 - val_loss: -0.0120 - val_crf_viterbi_accuracy: 0.9897\n",
      "Epoch 4/10\n",
      "34530/34530 [==============================] - 134s 4ms/step - loss: -0.0238 - crf_viterbi_accuracy: 0.9911 - val_loss: -0.0289 - val_crf_viterbi_accuracy: 0.9902\n",
      "Epoch 5/10\n",
      "34530/34530 [==============================] - 133s 4ms/step - loss: -0.0402 - crf_viterbi_accuracy: 0.9917 - val_loss: -0.0440 - val_crf_viterbi_accuracy: 0.9901\n",
      "Epoch 6/10\n",
      "34530/34530 [==============================] - 133s 4ms/step - loss: -0.0559 - crf_viterbi_accuracy: 0.9922 - val_loss: -0.0587 - val_crf_viterbi_accuracy: 0.9906\n",
      "Epoch 7/10\n",
      "34530/34530 [==============================] - 133s 4ms/step - loss: -0.0713 - crf_viterbi_accuracy: 0.9924 - val_loss: -0.0735 - val_crf_viterbi_accuracy: 0.9908\n",
      "Epoch 8/10\n",
      "34530/34530 [==============================] - 135s 4ms/step - loss: -0.0864 - crf_viterbi_accuracy: 0.9928 - val_loss: -0.0884 - val_crf_viterbi_accuracy: 0.9907\n",
      "Epoch 9/10\n",
      "34530/34530 [==============================] - 136s 4ms/step - loss: -0.1014 - crf_viterbi_accuracy: 0.9930 - val_loss: -0.1028 - val_crf_viterbi_accuracy: 0.9908\n",
      "Epoch 10/10\n",
      "34530/34530 [==============================] - 137s 4ms/step - loss: -0.1164 - crf_viterbi_accuracy: 0.9932 - val_loss: -0.1173 - val_crf_viterbi_accuracy: 0.9909\n"
     ]
    }
   ],
   "source": [
    "history_3 = model_3.fit([X_word_tr_CRF,\n",
    "                     np.array(X_char_tr_CRF).reshape((len(X_char_tr_CRF), max_len, max_len_char))],\n",
    "                    np.array(y_tr_CRF),\n",
    "                    batch_size=32, epochs=10, validation_split=0.2, verbose=1)"
   ]
  },
  {
   "cell_type": "code",
   "execution_count": 92,
   "metadata": {},
   "outputs": [],
   "source": [
    "y_pred_3 = model_3.predict([X_word_te_CRF,\n",
    "                        np.array(X_char_te_CRF).reshape((len(X_char_te_CRF),\n",
    "                                                     max_len, max_len_char))])"
   ]
  },
  {
   "cell_type": "code",
   "execution_count": 93,
   "metadata": {},
   "outputs": [
    {
     "data": {
      "text/html": [
       "<div>\n",
       "<style scoped>\n",
       "    .dataframe tbody tr th:only-of-type {\n",
       "        vertical-align: middle;\n",
       "    }\n",
       "\n",
       "    .dataframe tbody tr th {\n",
       "        vertical-align: top;\n",
       "    }\n",
       "\n",
       "    .dataframe thead th {\n",
       "        text-align: right;\n",
       "    }\n",
       "</style>\n",
       "<table border=\"1\" class=\"dataframe\">\n",
       "  <thead>\n",
       "    <tr style=\"text-align: right;\">\n",
       "      <th></th>\n",
       "      <th>val_loss</th>\n",
       "      <th>val_crf_viterbi_accuracy</th>\n",
       "      <th>loss</th>\n",
       "      <th>crf_viterbi_accuracy</th>\n",
       "    </tr>\n",
       "  </thead>\n",
       "  <tbody>\n",
       "    <tr>\n",
       "      <th>0</th>\n",
       "      <td>0.033828</td>\n",
       "      <td>0.985956</td>\n",
       "      <td>0.118974</td>\n",
       "      <td>0.966704</td>\n",
       "    </tr>\n",
       "    <tr>\n",
       "      <th>1</th>\n",
       "      <td>0.006960</td>\n",
       "      <td>0.988660</td>\n",
       "      <td>0.016765</td>\n",
       "      <td>0.988166</td>\n",
       "    </tr>\n",
       "    <tr>\n",
       "      <th>2</th>\n",
       "      <td>-0.012034</td>\n",
       "      <td>0.989704</td>\n",
       "      <td>-0.005882</td>\n",
       "      <td>0.990208</td>\n",
       "    </tr>\n",
       "    <tr>\n",
       "      <th>3</th>\n",
       "      <td>-0.028918</td>\n",
       "      <td>0.990151</td>\n",
       "      <td>-0.023789</td>\n",
       "      <td>0.991128</td>\n",
       "    </tr>\n",
       "    <tr>\n",
       "      <th>4</th>\n",
       "      <td>-0.043978</td>\n",
       "      <td>0.990117</td>\n",
       "      <td>-0.040241</td>\n",
       "      <td>0.991720</td>\n",
       "    </tr>\n",
       "    <tr>\n",
       "      <th>5</th>\n",
       "      <td>-0.058658</td>\n",
       "      <td>0.990592</td>\n",
       "      <td>-0.055927</td>\n",
       "      <td>0.992157</td>\n",
       "    </tr>\n",
       "    <tr>\n",
       "      <th>6</th>\n",
       "      <td>-0.073528</td>\n",
       "      <td>0.990796</td>\n",
       "      <td>-0.071290</td>\n",
       "      <td>0.992436</td>\n",
       "    </tr>\n",
       "    <tr>\n",
       "      <th>7</th>\n",
       "      <td>-0.088432</td>\n",
       "      <td>0.990742</td>\n",
       "      <td>-0.086391</td>\n",
       "      <td>0.992799</td>\n",
       "    </tr>\n",
       "    <tr>\n",
       "      <th>8</th>\n",
       "      <td>-0.102778</td>\n",
       "      <td>0.990763</td>\n",
       "      <td>-0.101402</td>\n",
       "      <td>0.993002</td>\n",
       "    </tr>\n",
       "    <tr>\n",
       "      <th>9</th>\n",
       "      <td>-0.117289</td>\n",
       "      <td>0.990869</td>\n",
       "      <td>-0.116401</td>\n",
       "      <td>0.993214</td>\n",
       "    </tr>\n",
       "  </tbody>\n",
       "</table>\n",
       "</div>"
      ],
      "text/plain": [
       "   val_loss  val_crf_viterbi_accuracy      loss  crf_viterbi_accuracy\n",
       "0  0.033828                  0.985956  0.118974              0.966704\n",
       "1  0.006960                  0.988660  0.016765              0.988166\n",
       "2 -0.012034                  0.989704 -0.005882              0.990208\n",
       "3 -0.028918                  0.990151 -0.023789              0.991128\n",
       "4 -0.043978                  0.990117 -0.040241              0.991720\n",
       "5 -0.058658                  0.990592 -0.055927              0.992157\n",
       "6 -0.073528                  0.990796 -0.071290              0.992436\n",
       "7 -0.088432                  0.990742 -0.086391              0.992799\n",
       "8 -0.102778                  0.990763 -0.101402              0.993002\n",
       "9 -0.117289                  0.990869 -0.116401              0.993214"
      ]
     },
     "execution_count": 93,
     "metadata": {},
     "output_type": "execute_result"
    }
   ],
   "source": [
    "hist_3 = pd.DataFrame(history_3.history)\n",
    "hist_3"
   ]
  },
  {
   "cell_type": "code",
   "execution_count": 94,
   "metadata": {},
   "outputs": [
    {
     "data": {
      "image/png": "[encoded data removed]",
      "text/plain": [
       "<Figure size 864x864 with 1 Axes>"
      ]
     },
     "metadata": {},
     "output_type": "display_data"
    }
   ],
   "source": [
    "plt.style.use(\"ggplot\")\n",
    "plt.figure(figsize=(12,12))\n",
    "plt.plot(hist_3[\"crf_viterbi_accuracy\"])\n",
    "plt.plot(hist_3[\"val_crf_viterbi_accuracy\"])\n",
    "plt.show()"
   ]
  },
  {
   "cell_type": "code",
   "execution_count": 95,
   "metadata": {},
   "outputs": [],
   "source": [
    "from seqeval.metrics import precision_score, recall_score, f1_score, classification_report\n",
    "def pred2label(pred):\n",
    "    out = []\n",
    "    for pred_i in pred:\n",
    "        out_i = []\n",
    "        for p in pred_i:\n",
    "            p_i = np.argmax(p)\n",
    "            out_i.append(idx2label[p_i].replace(\"PAD\", \"O\"))\n",
    "        out.append(out_i)\n",
    "    return out\n",
    "    \n",
    "pred_labels = pred2label(y_pred_3)\n",
    "test_labels = pred2label(y_te_CRF)\n"
   ]
  },
  {
   "cell_type": "code",
   "execution_count": 116,
   "metadata": {},
   "outputs": [
    {
     "name": "stdout",
     "output_type": "stream",
     "text": [
      "F1-score: 83.9%\n"
     ]
    }
   ],
   "source": [
    "print(\"F1-score: {:.1%}\".format(f1_score(test_labels, pred_labels, average=\"weighted\")))"
   ]
  },
  {
   "cell_type": "code",
   "execution_count": 128,
   "metadata": {},
   "outputs": [
    {
     "name": "stderr",
     "output_type": "stream",
     "text": [
      "C:\\Users\\linar\\anaconda3\\lib\\site-packages\\sklearn\\metrics\\_classification.py:1272: UndefinedMetricWarning: Precision and F-score are ill-defined and being set to 0.0 in labels with no predicted samples. Use `zero_division` parameter to control this behavior.\n",
      "  _warn_prf(average, modifier, msg_start, len(result))\n"
     ]
    },
    {
     "name": "stdout",
     "output_type": "stream",
     "text": [
      "              precision    recall  f1-score   support\n",
      "\n",
      "       B-art       0.00      0.00      0.00        49\n",
      "       B-eve       0.59      0.30      0.40        33\n",
      "       B-geo       0.86      0.90      0.88      3735\n",
      "       B-gpe       0.96      0.94      0.95      1596\n",
      "       B-nat       0.46      0.26      0.33        23\n",
      "       B-org       0.81      0.71      0.75      2071\n",
      "       B-per       0.84      0.84      0.84      1694\n",
      "       B-tim       0.93      0.85      0.89      2158\n",
      "       I-art       0.00      0.00      0.00        42\n",
      "       I-eve       0.43      0.18      0.26        33\n",
      "       I-geo       0.81      0.81      0.81       707\n",
      "       I-gpe       0.91      0.62      0.74        16\n",
      "       I-nat       0.00      0.00      0.00         5\n",
      "       I-org       0.82      0.77      0.79      1786\n",
      "       I-per       0.84      0.93      0.88      1739\n",
      "       I-tim       0.89      0.66      0.75       726\n",
      "           O       1.00      1.00      1.00    343287\n",
      "\n",
      "    accuracy                           0.99    359700\n",
      "   macro avg       0.66      0.57      0.60    359700\n",
      "weighted avg       0.99      0.99      0.99    359700\n",
      "\n"
     ]
    }
   ],
   "source": [
    "from sklearn_crfsuite.metrics import flat_classification_report\n",
    "print(flat_classification_report(test_labels, pred_labels))"
   ]
  },
  {
   "cell_type": "code",
   "execution_count": 98,
   "metadata": {},
   "outputs": [
    {
     "name": "stdout",
     "output_type": "stream",
     "text": [
      "Word           ||True ||Pred\n",
      "==============================\n",
      "On             : O     O\n",
      "Monday         : B-tim B-tim\n",
      ",              : O     O\n",
      "British        : B-org B-org\n",
      "Foreign        : I-org I-org\n",
      "Secretary      : B-per B-per\n",
      "Jack           : I-per I-per\n",
      "Straw          : I-per I-per\n",
      "said           : O     O\n",
      "his            : O     O\n",
      "government     : O     O\n",
      "has            : O     O\n",
      "found          : O     O\n",
      "no             : O     O\n",
      "evidence       : O     O\n",
      "the            : O     O\n",
      "Bush           : B-org B-per\n",
      "administration : O     O\n",
      "requested      : O     O\n",
      "permission     : O     O\n",
      "to             : O     O\n",
      "fly            : O     O\n",
      "terror         : O     O\n",
      "suspects       : O     O\n",
      "through        : O     O\n",
      "Britain        : B-geo B-geo\n",
      "or             : O     O\n",
      "its            : O     O\n",
      "airspace       : O     O\n",
      ".              : O     O\n"
     ]
    }
   ],
   "source": [
    "i = 1925\n",
    "p = np.argmax(y_pred_3[i], axis=-1)\n",
    "true = np.argmax(y_te_CRF[i], -1)\n",
    "print(\"{:15}||{:5}||{}\".format(\"Word\", \"True\", \"Pred\"))\n",
    "print(30 * \"=\")\n",
    "for w, t, pred in zip(X_word_te_CRF[i], true, p):\n",
    "    if w != 0:\n",
    "        print(\"{:15}: {:5} {}\".format(idx2word[w], idx2label[t], idx2label[pred]))"
   ]
  },
  {
   "cell_type": "code",
   "execution_count": null,
   "metadata": {},
   "outputs": [],
   "source": []
  },
  {
   "cell_type": "code",
   "execution_count": 118,
   "metadata": {},
   "outputs": [],
   "source": [
    "# input and embedding for words\n",
    "word_in_4 = Input(shape=(max_len,), name='words_input')\n",
    "emb_word_4 = Embedding(input_dim=len(word2Idx), output_dim=20,\n",
    "                     input_length=max_len)(word_in_4)\n",
    "\n",
    "# input and embeddings for characters\n",
    "char_in_4 = Input(shape=(max_len, max_len_char,), name='char_input')\n",
    "embed_char_out_4 = TimeDistributed(Embedding(input_dim=len(char2idx), output_dim=10,\n",
    "                           embeddings_initializer=RandomUniform(minval=-0.5, maxval=0.5)), name='char_embedding')(char_in_4)\n",
    "\n",
    "# character LSTM to get word encodings by characters\n",
    "char_enc_4 = TimeDistributed(LSTM(units=20, return_sequences=False,\n",
    "                                recurrent_dropout=0.5))(embed_char_out_4)\n",
    "\n",
    "# main LSTM\n",
    "x_4 = concatenate([emb_word_4, char_enc_4])\n",
    "output_4 = Bidirectional(LSTM(50, return_sequences=True, recurrent_dropout=0.6))(x_4)\n",
    "output_4 = TimeDistributed(Dense(50, activation=None))(output_4)\n",
    "\n",
    "\n",
    "crf = CRF(len(label2Idx))\n",
    "crf_output = crf(output_4)\n",
    "model_4 = Model(inputs=[word_in_4, char_in_4], outputs=[crf_output])\n",
    "\n"
   ]
  },
  {
   "cell_type": "code",
   "execution_count": 119,
   "metadata": {},
   "outputs": [
    {
     "name": "stderr",
     "output_type": "stream",
     "text": [
      "C:\\Users\\linar\\anaconda3\\lib\\site-packages\\keras_contrib\\layers\\crf.py:346: UserWarning: CRF.loss_function is deprecated and it might be removed in the future. Please use losses.crf_loss instead.\n",
      "  warnings.warn('CRF.loss_function is deprecated '\n",
      "C:\\Users\\linar\\anaconda3\\lib\\site-packages\\keras_contrib\\layers\\crf.py:353: UserWarning: CRF.accuracy is deprecated and it might be removed in the future. Please use metrics.crf_accuracy\n",
      "  warnings.warn('CRF.accuracy is deprecated and it '\n"
     ]
    },
    {
     "name": "stdout",
     "output_type": "stream",
     "text": [
      "Model: \"model_7\"\n",
      "__________________________________________________________________________________________________\n",
      "Layer (type)                    Output Shape         Param #     Connected to                     \n",
      "==================================================================================================\n",
      "char_input (InputLayer)         (None, 75, 10)       0                                            \n",
      "__________________________________________________________________________________________________\n",
      "words_input (InputLayer)        (None, 75)           0                                            \n",
      "__________________________________________________________________________________________________\n",
      "char_embedding (TimeDistributed (None, 75, 10, 10)   990         char_input[0][0]                 \n",
      "__________________________________________________________________________________________________\n",
      "embedding_13 (Embedding)        (None, 75, 20)       703560      words_input[0][0]                \n",
      "__________________________________________________________________________________________________\n",
      "time_distributed_17 (TimeDistri (None, 75, 20)       2480        char_embedding[0][0]             \n",
      "__________________________________________________________________________________________________\n",
      "concatenate_7 (Concatenate)     (None, 75, 40)       0           embedding_13[0][0]               \n",
      "                                                                 time_distributed_17[0][0]        \n",
      "__________________________________________________________________________________________________\n",
      "bidirectional_7 (Bidirectional) (None, 75, 100)      36400       concatenate_7[0][0]              \n",
      "__________________________________________________________________________________________________\n",
      "time_distributed_18 (TimeDistri (None, 75, 50)       5050        bidirectional_7[0][0]            \n",
      "__________________________________________________________________________________________________\n",
      "crf_3 (CRF)                     (None, 75, 18)       1278        time_distributed_18[0][0]        \n",
      "==================================================================================================\n",
      "Total params: 749,758\n",
      "Trainable params: 749,758\n",
      "Non-trainable params: 0\n",
      "__________________________________________________________________________________________________\n"
     ]
    }
   ],
   "source": [
    "model_4.compile(optimizer=\"rmsprop\", loss=crf.loss_function, metrics=[crf.accuracy])\n",
    "model_4.summary()"
   ]
  },
  {
   "cell_type": "code",
   "execution_count": 120,
   "metadata": {},
   "outputs": [
    {
     "name": "stdout",
     "output_type": "stream",
     "text": [
      "Train on 34530 samples, validate on 8633 samples\n",
      "Epoch 1/10\n",
      "34530/34530 [==============================] - 304s 9ms/step - loss: 0.1036 - crf_viterbi_accuracy: 0.9693 - val_loss: 0.0259 - val_crf_viterbi_accuracy: 0.9872\n",
      "Epoch 2/10\n",
      "34530/34530 [==============================] - 310s 9ms/step - loss: 0.0098 - crf_viterbi_accuracy: 0.9891 - val_loss: -7.4405e-04 - val_crf_viterbi_accuracy: 0.9896\n",
      "Epoch 3/10\n",
      "34530/34530 [==============================] - 307s 9ms/step - loss: -0.0116 - crf_viterbi_accuracy: 0.9909 - val_loss: -0.0183 - val_crf_viterbi_accuracy: 0.9902\n",
      "Epoch 4/10\n",
      "34530/34530 [==============================] - 308s 9ms/step - loss: -0.0290 - crf_viterbi_accuracy: 0.9915 - val_loss: -0.0325 - val_crf_viterbi_accuracy: 0.9899\n",
      "Epoch 5/10\n",
      "34530/34530 [==============================] - 307s 9ms/step - loss: -0.0452 - crf_viterbi_accuracy: 0.9920 - val_loss: -0.0493 - val_crf_viterbi_accuracy: 0.9908\n",
      "Epoch 6/10\n",
      "34530/34530 [==============================] - 303s 9ms/step - loss: -0.0607 - crf_viterbi_accuracy: 0.9924 - val_loss: -0.0650 - val_crf_viterbi_accuracy: 0.9911\n",
      "Epoch 7/10\n",
      "34530/34530 [==============================] - 311s 9ms/step - loss: -0.0760 - crf_viterbi_accuracy: 0.9928 - val_loss: -0.0792 - val_crf_viterbi_accuracy: 0.9907\n",
      "Epoch 8/10\n",
      "34530/34530 [==============================] - 306s 9ms/step - loss: -0.0911 - crf_viterbi_accuracy: 0.9930 - val_loss: -0.0942 - val_crf_viterbi_accuracy: 0.9910\n",
      "Epoch 9/10\n",
      "34530/34530 [==============================] - 312s 9ms/step - loss: -0.1060 - crf_viterbi_accuracy: 0.9932 - val_loss: -0.1085 - val_crf_viterbi_accuracy: 0.9910\n",
      "Epoch 10/10\n",
      "34530/34530 [==============================] - 316s 9ms/step - loss: -0.1210 - crf_viterbi_accuracy: 0.9934 - val_loss: -0.1225 - val_crf_viterbi_accuracy: 0.9906\n"
     ]
    }
   ],
   "source": [
    "history_4 = model_4.fit([X_word_tr_CRF,\n",
    "                     np.array(X_char_tr_CRF).reshape((len(X_char_tr_CRF), max_len, max_len_char))],\n",
    "                    np.array(y_tr_CRF),\n",
    "                    batch_size=32, epochs=10, validation_split=0.2, verbose=1)"
   ]
  },
  {
   "cell_type": "code",
   "execution_count": 121,
   "metadata": {},
   "outputs": [],
   "source": [
    "y_pred_4 = model_4.predict([X_word_te_CRF,\n",
    "                        np.array(X_char_te_CRF).reshape((len(X_char_te_CRF),\n",
    "                                                     max_len, max_len_char))])"
   ]
  },
  {
   "cell_type": "code",
   "execution_count": 122,
   "metadata": {},
   "outputs": [
    {
     "data": {
      "text/html": [
       "<div>\n",
       "<style scoped>\n",
       "    .dataframe tbody tr th:only-of-type {\n",
       "        vertical-align: middle;\n",
       "    }\n",
       "\n",
       "    .dataframe tbody tr th {\n",
       "        vertical-align: top;\n",
       "    }\n",
       "\n",
       "    .dataframe thead th {\n",
       "        text-align: right;\n",
       "    }\n",
       "</style>\n",
       "<table border=\"1\" class=\"dataframe\">\n",
       "  <thead>\n",
       "    <tr style=\"text-align: right;\">\n",
       "      <th></th>\n",
       "      <th>val_loss</th>\n",
       "      <th>val_crf_viterbi_accuracy</th>\n",
       "      <th>loss</th>\n",
       "      <th>crf_viterbi_accuracy</th>\n",
       "    </tr>\n",
       "  </thead>\n",
       "  <tbody>\n",
       "    <tr>\n",
       "      <th>0</th>\n",
       "      <td>0.025908</td>\n",
       "      <td>0.987201</td>\n",
       "      <td>0.103602</td>\n",
       "      <td>0.969258</td>\n",
       "    </tr>\n",
       "    <tr>\n",
       "      <th>1</th>\n",
       "      <td>-0.000744</td>\n",
       "      <td>0.989624</td>\n",
       "      <td>0.009788</td>\n",
       "      <td>0.989077</td>\n",
       "    </tr>\n",
       "    <tr>\n",
       "      <th>2</th>\n",
       "      <td>-0.018339</td>\n",
       "      <td>0.990237</td>\n",
       "      <td>-0.011620</td>\n",
       "      <td>0.990865</td>\n",
       "    </tr>\n",
       "    <tr>\n",
       "      <th>3</th>\n",
       "      <td>-0.032522</td>\n",
       "      <td>0.989925</td>\n",
       "      <td>-0.029047</td>\n",
       "      <td>0.991497</td>\n",
       "    </tr>\n",
       "    <tr>\n",
       "      <th>4</th>\n",
       "      <td>-0.049328</td>\n",
       "      <td>0.990839</td>\n",
       "      <td>-0.045222</td>\n",
       "      <td>0.992049</td>\n",
       "    </tr>\n",
       "    <tr>\n",
       "      <th>5</th>\n",
       "      <td>-0.065016</td>\n",
       "      <td>0.991050</td>\n",
       "      <td>-0.060719</td>\n",
       "      <td>0.992434</td>\n",
       "    </tr>\n",
       "    <tr>\n",
       "      <th>6</th>\n",
       "      <td>-0.079241</td>\n",
       "      <td>0.990664</td>\n",
       "      <td>-0.075989</td>\n",
       "      <td>0.992757</td>\n",
       "    </tr>\n",
       "    <tr>\n",
       "      <th>7</th>\n",
       "      <td>-0.094238</td>\n",
       "      <td>0.990984</td>\n",
       "      <td>-0.091087</td>\n",
       "      <td>0.992989</td>\n",
       "    </tr>\n",
       "    <tr>\n",
       "      <th>8</th>\n",
       "      <td>-0.108483</td>\n",
       "      <td>0.990990</td>\n",
       "      <td>-0.106013</td>\n",
       "      <td>0.993159</td>\n",
       "    </tr>\n",
       "    <tr>\n",
       "      <th>9</th>\n",
       "      <td>-0.122532</td>\n",
       "      <td>0.990621</td>\n",
       "      <td>-0.120996</td>\n",
       "      <td>0.993434</td>\n",
       "    </tr>\n",
       "  </tbody>\n",
       "</table>\n",
       "</div>"
      ],
      "text/plain": [
       "   val_loss  val_crf_viterbi_accuracy      loss  crf_viterbi_accuracy\n",
       "0  0.025908                  0.987201  0.103602              0.969258\n",
       "1 -0.000744                  0.989624  0.009788              0.989077\n",
       "2 -0.018339                  0.990237 -0.011620              0.990865\n",
       "3 -0.032522                  0.989925 -0.029047              0.991497\n",
       "4 -0.049328                  0.990839 -0.045222              0.992049\n",
       "5 -0.065016                  0.991050 -0.060719              0.992434\n",
       "6 -0.079241                  0.990664 -0.075989              0.992757\n",
       "7 -0.094238                  0.990984 -0.091087              0.992989\n",
       "8 -0.108483                  0.990990 -0.106013              0.993159\n",
       "9 -0.122532                  0.990621 -0.120996              0.993434"
      ]
     },
     "execution_count": 122,
     "metadata": {},
     "output_type": "execute_result"
    }
   ],
   "source": [
    "hist_4 = pd.DataFrame(history_4.history)\n",
    "hist_4"
   ]
  },
  {
   "cell_type": "code",
   "execution_count": 124,
   "metadata": {},
   "outputs": [],
   "source": [
    "  \n",
    "pred_labels = pred2label(y_pred_3)\n",
    "test_labels = pred2label(y_te_CRF)\n"
   ]
  },
  {
   "cell_type": "code",
   "execution_count": 129,
   "metadata": {},
   "outputs": [
    {
     "name": "stdout",
     "output_type": "stream",
     "text": [
      "F1-score: 83.9%\n",
      "              precision    recall  f1-score   support\n",
      "\n",
      "       B-art       0.00      0.00      0.00        49\n",
      "       B-eve       0.59      0.30      0.40        33\n",
      "       B-geo       0.86      0.90      0.88      3735\n",
      "       B-gpe       0.96      0.94      0.95      1596\n",
      "       B-nat       0.46      0.26      0.33        23\n",
      "       B-org       0.81      0.71      0.75      2071\n",
      "       B-per       0.84      0.84      0.84      1694\n",
      "       B-tim       0.93      0.85      0.89      2158\n",
      "       I-art       0.00      0.00      0.00        42\n",
      "       I-eve       0.43      0.18      0.26        33\n",
      "       I-geo       0.81      0.81      0.81       707\n",
      "       I-gpe       0.91      0.62      0.74        16\n",
      "       I-nat       0.00      0.00      0.00         5\n",
      "       I-org       0.82      0.77      0.79      1786\n",
      "       I-per       0.84      0.93      0.88      1739\n",
      "       I-tim       0.89      0.66      0.75       726\n",
      "           O       1.00      1.00      1.00    343287\n",
      "\n",
      "    accuracy                           0.99    359700\n",
      "   macro avg       0.66      0.57      0.60    359700\n",
      "weighted avg       0.99      0.99      0.99    359700\n",
      "\n"
     ]
    }
   ],
   "source": [
    "print(\"F1-score: {:.1%}\".format(f1_score(test_labels, pred_labels, average=\"weighted\")))\n",
    "print(flat_classification_report(test_labels, pred_labels))"
   ]
  }
 ],
 "metadata": {
  "kernelspec": {
   "display_name": "Python 3",
   "language": "python",
   "name": "python3"
  },
  "language_info": {
   "codemirror_mode": {
    "name": "ipython",
    "version": 3
   },
   "file_extension": ".py",
   "mimetype": "text/x-python",
   "name": "python",
   "nbconvert_exporter": "python",
   "pygments_lexer": "ipython3",
   "version": "3.7.6"
  }
 },
 "nbformat": 4,
 "nbformat_minor": 4
}
