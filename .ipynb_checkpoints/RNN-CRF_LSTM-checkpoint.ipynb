{
 "cells": [
  {
   "cell_type": "markdown",
   "metadata": {
    "colab_type": "text",
    "id": "view-in-github"
   },
   "source": [
    "<a href=\"https://colab.research.google.com/github/tugaevaea/Web_Mining/blob/master/CRF_LSTM.ipynb\" target=\"_parent\"><img src=\"https://colab.research.google.com/assets/colab-badge.svg\" alt=\"Open In Colab\"/></a>"
   ]
  },
  {
   "cell_type": "code",
   "execution_count": 2,
   "metadata": {
    "colab": {
     "base_uri": "https://localhost:8080/",
     "height": 156
    },
    "colab_type": "code",
    "id": "1fG94Je1Eb0-",
    "outputId": "d537ecac-529a-404e-aae6-f0be32bf1ade"
   },
   "outputs": [
    {
     "name": "stdout",
     "output_type": "stream",
     "text": [
      "Go to this URL in a browser: https://accounts.google.com/o/oauth2/auth?client_id=947318989803-6bn6qk8qdgf4n4g3pfee6491hc0brc4i.apps.googleusercontent.com&redirect_uri=urn%3aietf%3awg%3aoauth%3a2.0%3aoob&response_type=code&scope=email%20https%3a%2f%2fwww.googleapis.com%2fauth%2fdocs.test%20https%3a%2f%2fwww.googleapis.com%2fauth%2fdrive%20https%3a%2f%2fwww.googleapis.com%2fauth%2fdrive.photos.readonly%20https%3a%2f%2fwww.googleapis.com%2fauth%2fpeopleapi.readonly\n",
      "\n",
      "Enter your authorization code:\n",
      "··········\n",
      "Mounted at /content/drive\n",
      "CRF-LSTM.ipynb\tner.csv  ner_dataset.csv\n",
      "/content/drive/My Drive/MMDS/WebMining/Project\n"
     ]
    }
   ],
   "source": [
    "from google.colab import drive\n",
    "drive.mount('/content/drive')\n",
    "!ls \"/content/drive/My Drive/MMDS/WebMining/Project\"\n",
    "%cd /content/drive/My Drive/MMDS/WebMining/Project"
   ]
  },
  {
   "cell_type": "code",
   "execution_count": 1,
   "metadata": {
    "colab": {},
    "colab_type": "code",
    "id": "4ukugj5mJtiL"
   },
   "outputs": [],
   "source": [
    "import pandas as pd\n",
    "import numpy as np\n",
    "\n",
    "data = pd.read_csv(\"ner_dataset.csv\", encoding=\"latin1\")\n"
   ]
  },
  {
   "cell_type": "code",
   "execution_count": 2,
   "metadata": {
    "colab": {},
    "colab_type": "code",
    "id": "iFusrKMDJtu_"
   },
   "outputs": [],
   "source": [
    "data = data.fillna(method=\"ffill\")\n"
   ]
  },
  {
   "cell_type": "code",
   "execution_count": 3,
   "metadata": {
    "colab": {
     "base_uri": "https://localhost:8080/",
     "height": 34
    },
    "colab_type": "code",
    "id": "sJ5IfwusJt4a",
    "outputId": "18a6dc0d-4072-4e72-8975-12d54df81727"
   },
   "outputs": [
    {
     "data": {
      "text/plain": [
       "35179"
      ]
     },
     "execution_count": 3,
     "metadata": {},
     "output_type": "execute_result"
    }
   ],
   "source": [
    "words = list(set(data[\"Word\"].values))\n",
    "words.append(\"ENDPAD\")\n",
    "n_words = len(words); n_words\n"
   ]
  },
  {
   "cell_type": "code",
   "execution_count": 4,
   "metadata": {
    "colab": {
     "base_uri": "https://localhost:8080/",
     "height": 34
    },
    "colab_type": "code",
    "id": "lY187l0RJt_N",
    "outputId": "e447de78-8561-4c6c-f06b-e31cfd2cbbaa"
   },
   "outputs": [
    {
     "data": {
      "text/plain": [
       "17"
      ]
     },
     "execution_count": 4,
     "metadata": {},
     "output_type": "execute_result"
    }
   ],
   "source": [
    "tags = list(set(data[\"Tag\"].values))\n",
    "n_tags = len(tags); n_tags\n"
   ]
  },
  {
   "cell_type": "code",
   "execution_count": 5,
   "metadata": {
    "colab": {},
    "colab_type": "code",
    "id": "WAdYBDzXJuEK"
   },
   "outputs": [],
   "source": [
    "class SentenceGetter(object):\n",
    "    \n",
    "    def __init__(self, data):\n",
    "        self.n_sent = 1\n",
    "        self.data = data\n",
    "        self.empty = False\n",
    "        agg_func = lambda s: [(w, p, t) for w, p, t in zip(s[\"Word\"].values.tolist(),\n",
    "                                                           s[\"POS\"].values.tolist(),\n",
    "                                                           s[\"Tag\"].values.tolist())]\n",
    "        self.grouped = self.data.groupby(\"Sentence #\").apply(agg_func)\n",
    "        self.sentences = [s for s in self.grouped]\n",
    "    \n",
    "    def get_next(self):\n",
    "        try:\n",
    "            s = self.grouped[\"Sentence: {}\".format(self.n_sent)]\n",
    "            self.n_sent += 1\n",
    "            return s\n",
    "        except:\n",
    "            return None\n"
   ]
  },
  {
   "cell_type": "code",
   "execution_count": 6,
   "metadata": {
    "colab": {},
    "colab_type": "code",
    "id": "4kjECRYuJuHn"
   },
   "outputs": [],
   "source": [
    "getter = SentenceGetter(data)\n"
   ]
  },
  {
   "cell_type": "code",
   "execution_count": 7,
   "metadata": {
    "colab": {},
    "colab_type": "code",
    "id": "CKYJ99rdJ_q3"
   },
   "outputs": [],
   "source": [
    "sent = getter.get_next()"
   ]
  },
  {
   "cell_type": "code",
   "execution_count": 8,
   "metadata": {
    "colab": {},
    "colab_type": "code",
    "id": "50LXVFH0JuMC"
   },
   "outputs": [],
   "source": [
    "sentences = getter.sentences\n",
    "\n"
   ]
  },
  {
   "cell_type": "code",
   "execution_count": 9,
   "metadata": {
    "colab": {},
    "colab_type": "code",
    "id": "IBZrTEnsKDyn"
   },
   "outputs": [],
   "source": [
    "max_len = 75\n",
    "word2idx = {w: i + 1 for i, w in enumerate(words)}\n",
    "tag2idx = {t: i for i, t in enumerate(tags)}\n"
   ]
  },
  {
   "cell_type": "code",
   "execution_count": 10,
   "metadata": {
    "colab": {
     "base_uri": "https://localhost:8080/",
     "height": 34
    },
    "colab_type": "code",
    "id": "0PV7NEXlKGdP",
    "outputId": "a04b8e0d-3835-4fb9-ecc2-aafabec1db51"
   },
   "outputs": [
    {
     "data": {
      "text/plain": [
       "34640"
      ]
     },
     "execution_count": 10,
     "metadata": {},
     "output_type": "execute_result"
    }
   ],
   "source": [
    "word2idx[\"Obama\"]\n"
   ]
  },
  {
   "cell_type": "code",
   "execution_count": 11,
   "metadata": {
    "colab": {
     "base_uri": "https://localhost:8080/",
     "height": 34
    },
    "colab_type": "code",
    "id": "RnMZjaQkKI1k",
    "outputId": "e6dcb0f7-3ca8-4ec6-9af8-35343a78d153"
   },
   "outputs": [
    {
     "name": "stderr",
     "output_type": "stream",
     "text": [
      "Using TensorFlow backend.\n"
     ]
    }
   ],
   "source": [
    "from keras.preprocessing.sequence import pad_sequences\n",
    "X = [[word2idx[w[0]] for w in s] for s in sentences]\n"
   ]
  },
  {
   "cell_type": "code",
   "execution_count": 12,
   "metadata": {
    "colab": {},
    "colab_type": "code",
    "id": "fRSZrl-RKLyi"
   },
   "outputs": [],
   "source": [
    "X = pad_sequences(maxlen=max_len, sequences=X, padding=\"post\", value=0)\n"
   ]
  },
  {
   "cell_type": "code",
   "execution_count": 13,
   "metadata": {
    "colab": {},
    "colab_type": "code",
    "id": "eDk_4UGJKN06"
   },
   "outputs": [],
   "source": [
    "y = [[tag2idx[w[2]] for w in s] for s in sentences]\n"
   ]
  },
  {
   "cell_type": "code",
   "execution_count": 14,
   "metadata": {
    "colab": {},
    "colab_type": "code",
    "id": "8J34gN0GKOew"
   },
   "outputs": [],
   "source": [
    "y = pad_sequences(maxlen=max_len, sequences=y, padding=\"post\", value=tag2idx[\"O\"])\n"
   ]
  },
  {
   "cell_type": "code",
   "execution_count": 15,
   "metadata": {
    "colab": {},
    "colab_type": "code",
    "id": "H0YogwWVKRSr"
   },
   "outputs": [],
   "source": [
    "from keras.utils import to_categorical\n"
   ]
  },
  {
   "cell_type": "code",
   "execution_count": 16,
   "metadata": {
    "colab": {},
    "colab_type": "code",
    "id": "KKAF9R5OKT4Q"
   },
   "outputs": [],
   "source": [
    "y = [to_categorical(i, num_classes=n_tags) for i in y]\n"
   ]
  },
  {
   "cell_type": "code",
   "execution_count": 17,
   "metadata": {
    "colab": {},
    "colab_type": "code",
    "id": "yPtF5TTRKVob"
   },
   "outputs": [],
   "source": [
    "from sklearn.model_selection import train_test_split\n"
   ]
  },
  {
   "cell_type": "code",
   "execution_count": 18,
   "metadata": {
    "colab": {},
    "colab_type": "code",
    "id": "4qGM8bfIKX4C"
   },
   "outputs": [],
   "source": [
    "X_tr, X_te, y_tr, y_te = train_test_split(X, y, test_size=0.1)\n"
   ]
  },
  {
   "cell_type": "code",
   "execution_count": null,
   "metadata": {
    "colab": {
     "base_uri": "https://localhost:8080/",
     "height": 343
    },
    "colab_type": "code",
    "id": "GYQzZuwmKhzA",
    "outputId": "0841ae00-0873-4d65-c1f2-bdc48696fbd6"
   },
   "outputs": [],
   "source": [
    "#!sudo pip install git+https://www.github.com/keras-team/keras-contrib.git"
   ]
  },
  {
   "cell_type": "code",
   "execution_count": 26,
   "metadata": {
    "colab": {},
    "colab_type": "code",
    "id": "Dp45OGe0KZ10"
   },
   "outputs": [],
   "source": [
    "from keras.models import Model, Input\n",
    "from keras.layers import LSTM, Embedding, Dense, TimeDistributed, Dropout, Bidirectional\n",
    "from keras_contrib.layers import CRF\n"
   ]
  },
  {
   "cell_type": "markdown",
   "metadata": {},
   "source": [
    "# Bi-LSTM-CRF model"
   ]
  },
  {
   "cell_type": "code",
   "execution_count": 27,
   "metadata": {
    "colab": {},
    "colab_type": "code",
    "id": "ZkPo0VB6KcSU"
   },
   "outputs": [],
   "source": [
    "input = Input(shape=(max_len,))\n",
    "model = Embedding(input_dim=n_words + 1, output_dim=20,\n",
    "                  input_length=max_len)(input)  # 20-dim embedding\n",
    "model = Bidirectional(LSTM(units=50, return_sequences=True,\n",
    "                           recurrent_dropout=0.1))(model)  # variational biLSTM\n",
    "model = TimeDistributed(Dense(50, activation=\"relu\"))(model)  # a dense layer as suggested by neuralNer\n",
    "crf = CRF(n_tags)  # CRF layer\n",
    "out = crf(model)  # output\n"
   ]
  },
  {
   "cell_type": "code",
   "execution_count": 28,
   "metadata": {
    "colab": {},
    "colab_type": "code",
    "id": "LZLWoDBlK1Ih"
   },
   "outputs": [],
   "source": [
    "model = Model(input, out)\n"
   ]
  },
  {
   "cell_type": "code",
   "execution_count": 29,
   "metadata": {
    "colab": {
     "base_uri": "https://localhost:8080/",
     "height": 105
    },
    "colab_type": "code",
    "id": "vdgVdStnK3N_",
    "outputId": "23a75d87-9ba0-4ba9-8bc2-3d2a2089dc4d"
   },
   "outputs": [],
   "source": [
    "model.compile(optimizer=\"rmsprop\", loss=crf.loss_function, metrics=[crf.accuracy])\n"
   ]
  },
  {
   "cell_type": "code",
   "execution_count": 30,
   "metadata": {
    "colab": {
     "base_uri": "https://localhost:8080/",
     "height": 323
    },
    "colab_type": "code",
    "id": "uevB0RUEK4lo",
    "outputId": "dd50a154-07d4-4b66-bac9-2f43dd7eb33e"
   },
   "outputs": [
    {
     "name": "stdout",
     "output_type": "stream",
     "text": [
      "Model: \"model_2\"\n",
      "_________________________________________________________________\n",
      "Layer (type)                 Output Shape              Param #   \n",
      "=================================================================\n",
      "input_2 (InputLayer)         (None, 75)                0         \n",
      "_________________________________________________________________\n",
      "embedding_2 (Embedding)      (None, 75, 20)            703600    \n",
      "_________________________________________________________________\n",
      "bidirectional_2 (Bidirection (None, 75, 100)           28400     \n",
      "_________________________________________________________________\n",
      "time_distributed_2 (TimeDist (None, 75, 50)            5050      \n",
      "_________________________________________________________________\n",
      "crf_2 (CRF)                  (None, 75, 17)            1190      \n",
      "=================================================================\n",
      "Total params: 738,240\n",
      "Trainable params: 738,240\n",
      "Non-trainable params: 0\n",
      "_________________________________________________________________\n"
     ]
    }
   ],
   "source": [
    "model.summary()\n"
   ]
  },
  {
   "cell_type": "code",
   "execution_count": 31,
   "metadata": {
    "colab": {
     "base_uri": "https://localhost:8080/",
     "height": 241
    },
    "colab_type": "code",
    "id": "o6WBZy16K6GJ",
    "outputId": "66565000-c730-4fdb-9444-b31495ef7abb"
   },
   "outputs": [
    {
     "name": "stderr",
     "output_type": "stream",
     "text": [
      "/Library/Frameworks/Python.framework/Versions/3.8/lib/python3.8/site-packages/tensorflow/python/framework/indexed_slices.py:433: UserWarning: Converting sparse IndexedSlices to a dense Tensor of unknown shape. This may consume a large amount of memory.\n",
      "  warnings.warn(\n"
     ]
    },
    {
     "name": "stdout",
     "output_type": "stream",
     "text": [
      "Train on 38846 samples, validate on 4317 samples\n",
      "Epoch 1/5\n",
      "38846/38846 [==============================] - 189s 5ms/step - loss: 0.1108 - crf_viterbi_accuracy: 0.9675 - val_loss: 0.0294 - val_crf_viterbi_accuracy: 0.9851\n",
      "Epoch 2/5\n",
      "38846/38846 [==============================] - 177s 5ms/step - loss: 0.0105 - crf_viterbi_accuracy: 0.9879 - val_loss: -0.0017 - val_crf_viterbi_accuracy: 0.9887\n",
      "Epoch 3/5\n",
      "38846/38846 [==============================] - 146s 4ms/step - loss: -0.0141 - crf_viterbi_accuracy: 0.9902 - val_loss: -0.0209 - val_crf_viterbi_accuracy: 0.9892\n",
      "Epoch 4/5\n",
      "38846/38846 [==============================] - 126s 3ms/step - loss: -0.0335 - crf_viterbi_accuracy: 0.9911 - val_loss: -0.0391 - val_crf_viterbi_accuracy: 0.9894\n",
      "Epoch 5/5\n",
      "38846/38846 [==============================] - 120s 3ms/step - loss: -0.0515 - crf_viterbi_accuracy: 0.9917 - val_loss: -0.0561 - val_crf_viterbi_accuracy: 0.9896\n"
     ]
    }
   ],
   "source": [
    "history = model.fit(X_tr, np.array(y_tr), batch_size=32, epochs=5,\n",
    "                    validation_split=0.1, verbose=1)\n"
   ]
  },
  {
   "cell_type": "code",
   "execution_count": 84,
   "metadata": {
    "colab": {},
    "colab_type": "code",
    "id": "JgQ40ggMK7gS"
   },
   "outputs": [],
   "source": [
    "hist = pd.DataFrame(history.history)\n"
   ]
  },
  {
   "cell_type": "code",
   "execution_count": 38,
   "metadata": {
    "colab": {
     "base_uri": "https://localhost:8080/",
     "height": 204
    },
    "colab_type": "code",
    "id": "ovaeAxDAYQBF",
    "outputId": "afdea7d7-0c5e-4f19-918f-501255b5fec7"
   },
   "outputs": [
    {
     "data": {
      "text/html": [
       "<div>\n",
       "<style scoped>\n",
       "    .dataframe tbody tr th:only-of-type {\n",
       "        vertical-align: middle;\n",
       "    }\n",
       "\n",
       "    .dataframe tbody tr th {\n",
       "        vertical-align: top;\n",
       "    }\n",
       "\n",
       "    .dataframe thead th {\n",
       "        text-align: right;\n",
       "    }\n",
       "</style>\n",
       "<table border=\"1\" class=\"dataframe\">\n",
       "  <thead>\n",
       "    <tr style=\"text-align: right;\">\n",
       "      <th></th>\n",
       "      <th>val_loss</th>\n",
       "      <th>val_crf_viterbi_accuracy</th>\n",
       "      <th>loss</th>\n",
       "      <th>crf_viterbi_accuracy</th>\n",
       "    </tr>\n",
       "  </thead>\n",
       "  <tbody>\n",
       "    <tr>\n",
       "      <th>0</th>\n",
       "      <td>0.029399</td>\n",
       "      <td>0.985051</td>\n",
       "      <td>0.110795</td>\n",
       "      <td>0.967473</td>\n",
       "    </tr>\n",
       "    <tr>\n",
       "      <th>1</th>\n",
       "      <td>-0.001737</td>\n",
       "      <td>0.988706</td>\n",
       "      <td>0.010492</td>\n",
       "      <td>0.987931</td>\n",
       "    </tr>\n",
       "    <tr>\n",
       "      <th>2</th>\n",
       "      <td>-0.020922</td>\n",
       "      <td>0.989197</td>\n",
       "      <td>-0.014122</td>\n",
       "      <td>0.990214</td>\n",
       "    </tr>\n",
       "    <tr>\n",
       "      <th>3</th>\n",
       "      <td>-0.039071</td>\n",
       "      <td>0.989391</td>\n",
       "      <td>-0.033523</td>\n",
       "      <td>0.991092</td>\n",
       "    </tr>\n",
       "    <tr>\n",
       "      <th>4</th>\n",
       "      <td>-0.056130</td>\n",
       "      <td>0.989579</td>\n",
       "      <td>-0.051547</td>\n",
       "      <td>0.991683</td>\n",
       "    </tr>\n",
       "  </tbody>\n",
       "</table>\n",
       "</div>"
      ],
      "text/plain": [
       "   val_loss  val_crf_viterbi_accuracy      loss  crf_viterbi_accuracy\n",
       "0  0.029399                  0.985051  0.110795              0.967473\n",
       "1 -0.001737                  0.988706  0.010492              0.987931\n",
       "2 -0.020922                  0.989197 -0.014122              0.990214\n",
       "3 -0.039071                  0.989391 -0.033523              0.991092\n",
       "4 -0.056130                  0.989579 -0.051547              0.991683"
      ]
     },
     "execution_count": 38,
     "metadata": {},
     "output_type": "execute_result"
    }
   ],
   "source": [
    "hist"
   ]
  },
  {
   "cell_type": "code",
   "execution_count": 39,
   "metadata": {
    "colab": {
     "base_uri": "https://localhost:8080/",
     "height": 700
    },
    "colab_type": "code",
    "id": "RHFpMqJ4K866",
    "outputId": "bfb2d732-00b6-4173-8e99-4b4bde6bc171"
   },
   "outputs": [
    {
     "data": {
      "image/png": "[encoded data removed]",
      "text/plain": [
       "<Figure size 864x864 with 1 Axes>"
      ]
     },
     "metadata": {},
     "output_type": "display_data"
    }
   ],
   "source": [
    "import matplotlib.pyplot as plt\n",
    "plt.style.use(\"ggplot\")\n",
    "plt.figure(figsize=(12, 12))\n",
    "plt.plot(hist[\"crf_viterbi_accuracy\"])\n",
    "plt.plot(hist[\"val_crf_viterbi_accuracy\"])\n",
    "plt.show()\n"
   ]
  },
  {
   "cell_type": "code",
   "execution_count": 40,
   "metadata": {
    "colab": {
     "base_uri": "https://localhost:8080/",
     "height": 326
    },
    "colab_type": "code",
    "id": "XbLWjvynKo-q",
    "outputId": "193fdd31-031b-46e7-dede-6b42b8fb0afe"
   },
   "outputs": [],
   "source": [
    "#pip install seqeval"
   ]
  },
  {
   "cell_type": "code",
   "execution_count": 41,
   "metadata": {
    "colab": {
     "base_uri": "https://localhost:8080/",
     "height": 102
    },
    "colab_type": "code",
    "id": "-pgS-WXTKuDq",
    "outputId": "0110a3eb-3b3c-4891-ebeb-7d2101c6f435"
   },
   "outputs": [],
   "source": [
    "#!pip install sklearn"
   ]
  },
  {
   "cell_type": "code",
   "execution_count": 42,
   "metadata": {
    "colab": {
     "base_uri": "https://localhost:8080/",
     "height": 207
    },
    "colab_type": "code",
    "id": "EBnFtZH6KzfZ",
    "outputId": "cf9e88a4-43f5-478c-fce4-78ed2ddd0609"
   },
   "outputs": [],
   "source": [
    "#!pip install sklearn_crfsuite"
   ]
  },
  {
   "cell_type": "code",
   "execution_count": 43,
   "metadata": {
    "colab": {},
    "colab_type": "code",
    "id": "yVyedpCKK-RS"
   },
   "outputs": [],
   "source": [
    "from seqeval.metrics import precision_score, recall_score, f1_score, classification_report\n",
    "from  sklearn.model_selection import cross_val_predict\n",
    "from sklearn_crfsuite.metrics import flat_classification_report"
   ]
  },
  {
   "cell_type": "code",
   "execution_count": 44,
   "metadata": {
    "colab": {
     "base_uri": "https://localhost:8080/",
     "height": 34
    },
    "colab_type": "code",
    "id": "PKSC5VjQLAEg",
    "outputId": "49ab1f9e-ea44-4dbe-ba30-f808f629df9e"
   },
   "outputs": [
    {
     "name": "stdout",
     "output_type": "stream",
     "text": [
      "4796/4796 [==============================] - 3s 626us/step\n"
     ]
    }
   ],
   "source": [
    "test_pred = model.predict(X_te, verbose=1)\n"
   ]
  },
  {
   "cell_type": "code",
   "execution_count": 45,
   "metadata": {
    "colab": {},
    "colab_type": "code",
    "id": "WunDaB-0LBmU"
   },
   "outputs": [],
   "source": [
    "idx2tag = {i: w for w, i in tag2idx.items()}\n",
    "\n",
    "def pred2label(pred):\n",
    "    out = []\n",
    "    for pred_i in pred:\n",
    "        out_i = []\n",
    "        for p in pred_i:\n",
    "            p_i = np.argmax(p)\n",
    "            out_i.append(idx2tag[p_i].replace(\"PAD\", \"O\"))\n",
    "        out.append(out_i)\n",
    "    return out\n",
    "    \n",
    "pred_labels = pred2label(test_pred)\n",
    "test_labels = pred2label(y_te)\n"
   ]
  },
  {
   "cell_type": "code",
   "execution_count": 46,
   "metadata": {
    "colab": {
     "base_uri": "https://localhost:8080/",
     "height": 34
    },
    "colab_type": "code",
    "id": "h1AbmCFzLDqR",
    "outputId": "61e77302-8a45-42b0-9903-b993961c4e83"
   },
   "outputs": [
    {
     "name": "stdout",
     "output_type": "stream",
     "text": [
      "F1-score: 82.4%\n"
     ]
    }
   ],
   "source": [
    "print(\"F1-score: {:.1%}\".format(f1_score(test_labels, pred_labels)))\n"
   ]
  },
  {
   "cell_type": "code",
   "execution_count": 47,
   "metadata": {
    "colab": {
     "base_uri": "https://localhost:8080/",
     "height": 255
    },
    "colab_type": "code",
    "id": "OZ9nDvc3LFNd",
    "outputId": "8447558c-70f7-4f83-a9b9-ce7ba8d6169b"
   },
   "outputs": [
    {
     "name": "stdout",
     "output_type": "stream",
     "text": [
      "           precision    recall  f1-score   support\n",
      "\n",
      "      geo       0.85      0.87      0.86      3816\n",
      "      gpe       0.97      0.92      0.95      1565\n",
      "      org       0.69      0.66      0.67      1939\n",
      "      tim       0.91      0.85      0.88      2076\n",
      "      per       0.77      0.73      0.75      1692\n",
      "      eve       0.00      0.00      0.00        41\n",
      "      art       0.00      0.00      0.00        31\n",
      "      nat       0.00      0.00      0.00        16\n",
      "\n",
      "micro avg       0.84      0.81      0.82     11176\n",
      "macro avg       0.83      0.81      0.82     11176\n",
      "\n"
     ]
    }
   ],
   "source": [
    "print(classification_report(test_labels, pred_labels))\n"
   ]
  },
  {
   "cell_type": "code",
   "execution_count": 48,
   "metadata": {
    "colab": {
     "base_uri": "https://localhost:8080/",
     "height": 476
    },
    "colab_type": "code",
    "id": "ylQk_BRdLGqW",
    "outputId": "a596fb05-e159-4ff7-a893-9e0e61f87437"
   },
   "outputs": [
    {
     "name": "stdout",
     "output_type": "stream",
     "text": [
      "Word           ||True ||Pred\n",
      "==============================\n",
      "Meanwhile      : O     O\n",
      ",              : O     O\n",
      "a              : O     O\n",
      "Sunni          : B-org B-per\n",
      "Arab           : I-org I-per\n",
      "leader         : O     O\n",
      ",              : O     O\n",
      "Sheikh         : B-per B-per\n",
      "Khalaf         : I-per I-per\n",
      "al-Ilayan      : I-per I-per\n",
      ",              : O     O\n",
      "said           : O     O\n",
      "he             : O     O\n",
      "was            : O     O\n",
      "not            : O     O\n",
      "hurt           : O     O\n",
      "in             : O     O\n",
      "an             : O     O\n",
      "assassination  : O     O\n",
      "attempt        : O     O\n",
      "by             : O     O\n",
      "gunmen         : O     O\n",
      "wearing        : O     O\n",
      "Iraqi          : B-gpe B-gpe\n",
      "military       : O     O\n",
      "uniforms       : O     O\n",
      ".              : O     O\n"
     ]
    }
   ],
   "source": [
    "i = 1928\n",
    "p = model.predict(np.array([X_te[i]]))\n",
    "p = np.argmax(p, axis=-1)\n",
    "true = np.argmax(y_te[i], -1)\n",
    "print(\"{:15}||{:5}||{}\".format(\"Word\", \"True\", \"Pred\"))\n",
    "print(30 * \"=\")\n",
    "for w, t, pred in zip(X_te[i], true, p[0]):\n",
    "    if w != 0:\n",
    "        print(\"{:15}: {:5} {}\".format(words[w-1], tags[t], tags[pred]))\n"
   ]
  },
  {
   "cell_type": "code",
   "execution_count": 49,
   "metadata": {
    "colab": {},
    "colab_type": "code",
    "id": "q1DMERdZLIGI"
   },
   "outputs": [],
   "source": [
    "test_sentence = [\"Hawking\", \"was\", \"a\", \"Fellow\", \"of\", \"the\", \"Royal\", \"Society\", \",\", \"a\", \"lifetime\", \"member\",\n",
    "                 \"of\", \"the\", \"Pontifical\", \"Academy\", \"of\", \"Sciences\", \",\", \"and\", \"a\", \"recipient\", \"of\",\n",
    "                 \"the\", \"Presidential\", \"Medal\", \"of\", \"Freedom\", \",\", \"the\", \"highest\", \"civilian\", \"award\",\n",
    "                 \"in\", \"the\", \"United\", \"States\", \".\"]\n"
   ]
  },
  {
   "cell_type": "code",
   "execution_count": 50,
   "metadata": {
    "colab": {},
    "colab_type": "code",
    "id": "xDWPjpMRLJ-k"
   },
   "outputs": [],
   "source": [
    "x_test_sent = pad_sequences(sequences=[[word2idx.get(w, 0) for w in test_sentence]],\n",
    "                            padding=\"post\", value=0, maxlen=max_len)\n"
   ]
  },
  {
   "cell_type": "code",
   "execution_count": 51,
   "metadata": {
    "colab": {
     "base_uri": "https://localhost:8080/",
     "height": 306
    },
    "colab_type": "code",
    "id": "UrTKU845LOeO",
    "outputId": "03a973f6-33e9-4eab-c26c-db43140a37da"
   },
   "outputs": [
    {
     "data": {
      "text/plain": [
       "['I-geo',\n",
       " 'B-art',\n",
       " 'B-per',\n",
       " 'B-nat',\n",
       " 'I-art',\n",
       " 'B-org',\n",
       " 'I-nat',\n",
       " 'I-tim',\n",
       " 'I-per',\n",
       " 'I-gpe',\n",
       " 'I-org',\n",
       " 'B-eve',\n",
       " 'B-geo',\n",
       " 'I-eve',\n",
       " 'B-gpe',\n",
       " 'O',\n",
       " 'B-tim']"
      ]
     },
     "execution_count": 51,
     "metadata": {},
     "output_type": "execute_result"
    }
   ],
   "source": [
    "tags\n"
   ]
  },
  {
   "cell_type": "code",
   "execution_count": 52,
   "metadata": {
    "colab": {
     "base_uri": "https://localhost:8080/",
     "height": 697
    },
    "colab_type": "code",
    "id": "17UhFChRLQDi",
    "outputId": "485a2d66-c862-4343-d99a-6ec9bc918cd7"
   },
   "outputs": [
    {
     "name": "stdout",
     "output_type": "stream",
     "text": [
      "Word           ||Prediction\n",
      "==============================\n",
      "Hawking        : O    \n",
      "was            : O    \n",
      "a              : O    \n",
      "Fellow         : O    \n",
      "of             : O    \n",
      "the            : O    \n",
      "Royal          : B-org\n",
      "Society        : I-org\n",
      ",              : O    \n",
      "a              : O    \n",
      "lifetime       : O    \n",
      "member         : O    \n",
      "of             : O    \n",
      "the            : O    \n",
      "Pontifical     : B-org\n",
      "Academy        : I-org\n",
      "of             : I-org\n",
      "Sciences       : I-org\n",
      ",              : O    \n",
      "and            : O    \n",
      "a              : O    \n",
      "recipient      : O    \n",
      "of             : O    \n",
      "the            : O    \n",
      "Presidential   : O    \n",
      "Medal          : O    \n",
      "of             : O    \n",
      "Freedom        : O    \n",
      ",              : O    \n",
      "the            : O    \n",
      "highest        : O    \n",
      "civilian       : O    \n",
      "award          : O    \n",
      "in             : O    \n",
      "the            : O    \n",
      "United         : B-geo\n",
      "States         : I-geo\n",
      ".              : O    \n"
     ]
    }
   ],
   "source": [
    "p = model.predict(np.array([x_test_sent[0]]))\n",
    "p = np.argmax(p, axis=-1)\n",
    "print(\"{:15}||{}\".format(\"Word\", \"Prediction\"))\n",
    "print(30 * \"=\")\n",
    "for w, pred in zip(test_sentence, p[0]):\n",
    "    print(\"{:15}: {:5}\".format(w, tags[pred]))\n"
   ]
  },
  {
   "cell_type": "markdown",
   "metadata": {},
   "source": [
    "# Simple RNN"
   ]
  },
  {
   "cell_type": "code",
   "execution_count": 164,
   "metadata": {},
   "outputs": [],
   "source": [
    "import tensorflow as tf\n",
    "from keras.models import Sequential\n",
    "from keras.layers import Dense, SimpleRNN\n",
    "\n",
    "input = Input(shape=(max_len,))\n",
    "\n",
    "model_1 = Sequential([\n",
    "    Embedding(input_dim=n_words+1, output_dim=20, input_length=max_len),\n",
    "    Bidirectional(SimpleRNN(32, return_sequences=True)),\n",
    "    TimeDistributed(Dense(n_tags, activation='tanh')),\n",
    "    Dropout(0.5),\n",
    "])"
   ]
  },
  {
   "cell_type": "code",
   "execution_count": 165,
   "metadata": {},
   "outputs": [
    {
     "name": "stdout",
     "output_type": "stream",
     "text": [
      "Model: \"sequential_21\"\n",
      "_________________________________________________________________\n",
      "Layer (type)                 Output Shape              Param #   \n",
      "=================================================================\n",
      "embedding_27 (Embedding)     (None, 75, 20)            703600    \n",
      "_________________________________________________________________\n",
      "bidirectional_24 (Bidirectio (None, 75, 64)            3392      \n",
      "_________________________________________________________________\n",
      "time_distributed_21 (TimeDis (None, 75, 17)            1105      \n",
      "_________________________________________________________________\n",
      "dropout_13 (Dropout)         (None, 75, 17)            0         \n",
      "=================================================================\n",
      "Total params: 708,097\n",
      "Trainable params: 708,097\n",
      "Non-trainable params: 0\n",
      "_________________________________________________________________\n"
     ]
    }
   ],
   "source": [
    "model_1.compile(loss=tf.keras.losses.BinaryCrossentropy(from_logits=True),\n",
    "              optimizer=\"rmsprop\",\n",
    "              metrics=['accuracy'])\n",
    "\n",
    "model_1.summary()"
   ]
  },
  {
   "cell_type": "code",
   "execution_count": 166,
   "metadata": {},
   "outputs": [
    {
     "name": "stdout",
     "output_type": "stream",
     "text": [
      "Train on 34530 samples, validate on 8633 samples\n",
      "Epoch 1/5\n",
      "34530/34530 [==============================] - 44s 1ms/step - loss: 0.4157 - accuracy: 0.4783 - val_loss: 0.3163 - val_accuracy: 0.9694\n",
      "Epoch 2/5\n",
      "34530/34530 [==============================] - 40s 1ms/step - loss: 0.4123 - accuracy: 0.4851 - val_loss: 0.3156 - val_accuracy: 0.9716\n",
      "Epoch 3/5\n",
      "34530/34530 [==============================] - 39s 1ms/step - loss: 0.4121 - accuracy: 0.4859 - val_loss: 0.3155 - val_accuracy: 0.9720\n",
      "Epoch 4/5\n",
      "34530/34530 [==============================] - 41s 1ms/step - loss: 0.4121 - accuracy: 0.4868 - val_loss: 0.3155 - val_accuracy: 0.9725\n",
      "Epoch 5/5\n",
      "34530/34530 [==============================] - 39s 1ms/step - loss: 0.4119 - accuracy: 0.4879 - val_loss: 0.3153 - val_accuracy: 0.9759\n"
     ]
    }
   ],
   "source": [
    "history_1 = model_1.fit(X_tr, np.array(y_tr), batch_size=32, epochs=5,\n",
    "                        validation_split=0.2, verbose=1)\n"
   ]
  },
  {
   "cell_type": "code",
   "execution_count": 167,
   "metadata": {},
   "outputs": [
    {
     "name": "stdout",
     "output_type": "stream",
     "text": [
      "4796/4796 [==============================] - 1s 269us/step\n"
     ]
    }
   ],
   "source": [
    "test_pred1 = model_1.predict(X_te, verbose=1)\n"
   ]
  },
  {
   "cell_type": "code",
   "execution_count": 168,
   "metadata": {},
   "outputs": [],
   "source": [
    "pred_labels1 = pred2label(test_pred1)\n",
    "test_labels1 = pred2label(y_te)"
   ]
  },
  {
   "cell_type": "code",
   "execution_count": 187,
   "metadata": {},
   "outputs": [
    {
     "name": "stdout",
     "output_type": "stream",
     "text": [
      "F1-score: 48.6%\n",
      "           precision    recall  f1-score   support\n",
      "\n",
      "      geo       0.52      0.78      0.63      3816\n",
      "      gpe       0.42      0.88      0.57      1565\n",
      "      org       0.00      0.00      0.00      1939\n",
      "      tim       0.00      0.00      0.00      2076\n",
      "      per       0.44      0.72      0.55      1692\n",
      "      eve       0.00      0.00      0.00        41\n",
      "      art       0.00      0.00      0.00        31\n",
      "      nat       0.00      0.00      0.00        16\n",
      "\n",
      "micro avg       0.47      0.50      0.49     11176\n",
      "macro avg       0.30      0.50      0.38     11176\n",
      "\n"
     ]
    }
   ],
   "source": [
    "print(\"F1-score: {:.1%}\".format(f1_score(test_labels1, pred_labels1)))\n",
    "print(classification_report(test_labels1, pred_labels1))"
   ]
  },
  {
   "cell_type": "markdown",
   "metadata": {},
   "source": [
    "# Bi-LSTM"
   ]
  },
  {
   "cell_type": "code",
   "execution_count": 179,
   "metadata": {},
   "outputs": [],
   "source": [
    "input = Input(shape=(max_len,))\n",
    "\n",
    "model_2 = Sequential([\n",
    "    Embedding(input_dim=n_words+1, output_dim=20, input_length=max_len),\n",
    "    Bidirectional(LSTM(64, return_sequences=True)),\n",
    "    TimeDistributed(Dense(n_tags, activation='tanh')),\n",
    "    Dropout(0.5),\n",
    "])"
   ]
  },
  {
   "cell_type": "code",
   "execution_count": 180,
   "metadata": {},
   "outputs": [
    {
     "name": "stdout",
     "output_type": "stream",
     "text": [
      "Model: \"sequential_23\"\n",
      "_________________________________________________________________\n",
      "Layer (type)                 Output Shape              Param #   \n",
      "=================================================================\n",
      "embedding_32 (Embedding)     (None, 75, 20)            703600    \n",
      "_________________________________________________________________\n",
      "bidirectional_26 (Bidirectio (None, 75, 128)           43520     \n",
      "_________________________________________________________________\n",
      "time_distributed_23 (TimeDis (None, 75, 17)            2193      \n",
      "_________________________________________________________________\n",
      "dropout_15 (Dropout)         (None, 75, 17)            0         \n",
      "=================================================================\n",
      "Total params: 749,313\n",
      "Trainable params: 749,313\n",
      "Non-trainable params: 0\n",
      "_________________________________________________________________\n"
     ]
    }
   ],
   "source": [
    "model_2.compile(loss=tf.keras.losses.BinaryCrossentropy(from_logits=True), optimizer=\"rmsprop\", metrics=['accuracy'])\n",
    "\n",
    "model_2.summary()"
   ]
  },
  {
   "cell_type": "code",
   "execution_count": 181,
   "metadata": {},
   "outputs": [
    {
     "name": "stdout",
     "output_type": "stream",
     "text": [
      "Train on 34530 samples, validate on 8633 samples\n",
      "Epoch 1/10\n",
      "34530/34530 [==============================] - 93s 3ms/step - loss: 0.4150 - accuracy: 0.4773 - val_loss: 0.3163 - val_accuracy: 0.9607\n",
      "Epoch 2/10\n",
      "34530/34530 [==============================] - 70s 2ms/step - loss: 0.4128 - accuracy: 0.4804 - val_loss: 0.3161 - val_accuracy: 0.9619\n",
      "Epoch 3/10\n",
      "34530/34530 [==============================] - 75s 2ms/step - loss: 0.4127 - accuracy: 0.4815 - val_loss: 0.3160 - val_accuracy: 0.9628\n",
      "Epoch 4/10\n",
      "34530/34530 [==============================] - 74s 2ms/step - loss: 0.4126 - accuracy: 0.4819 - val_loss: 0.3159 - val_accuracy: 0.9629\n",
      "Epoch 5/10\n",
      "34530/34530 [==============================] - 71s 2ms/step - loss: 0.4125 - accuracy: 0.4821 - val_loss: 0.3159 - val_accuracy: 0.9632\n",
      "Epoch 6/10\n",
      "34530/34530 [==============================] - 69s 2ms/step - loss: 0.4122 - accuracy: 0.4839 - val_loss: 0.3156 - val_accuracy: 0.9719\n",
      "Epoch 7/10\n",
      "34530/34530 [==============================] - 76s 2ms/step - loss: 0.4120 - accuracy: 0.4865 - val_loss: 0.3155 - val_accuracy: 0.9722\n",
      "Epoch 8/10\n",
      "34530/34530 [==============================] - 72s 2ms/step - loss: 0.4121 - accuracy: 0.4870 - val_loss: 0.3155 - val_accuracy: 0.9721\n",
      "Epoch 9/10\n",
      "34530/34530 [==============================] - 71s 2ms/step - loss: 0.4119 - accuracy: 0.4876 - val_loss: 0.3154 - val_accuracy: 0.9723\n",
      "Epoch 10/10\n",
      "34530/34530 [==============================] - 68s 2ms/step - loss: 0.4120 - accuracy: 0.4877 - val_loss: 0.3154 - val_accuracy: 0.9723\n"
     ]
    }
   ],
   "source": [
    "history_2 = model_2.fit(X_tr, np.array(y_tr), batch_size=32, epochs=10,\n",
    "                        validation_split=0.2, verbose=1)\n",
    "    \n",
    "#history = model.fit(X_tr, np.array(y_tr), epochs=10, steps\n",
    " #                   validation_steps=30)"
   ]
  },
  {
   "cell_type": "code",
   "execution_count": 182,
   "metadata": {},
   "outputs": [
    {
     "name": "stdout",
     "output_type": "stream",
     "text": [
      "4796/4796 [==============================] - 2s 398us/step\n"
     ]
    }
   ],
   "source": [
    "test_pred2 = model_2.predict(X_te, verbose=1)\n",
    "pred_labels2 = pred2label(test_pred2)\n",
    "test_labels2 = pred2label(y_te)"
   ]
  },
  {
   "cell_type": "code",
   "execution_count": 188,
   "metadata": {},
   "outputs": [
    {
     "name": "stdout",
     "output_type": "stream",
     "text": [
      "F1-score: 39.5%\n",
      "           precision    recall  f1-score   support\n",
      "\n",
      "      geo       0.37      0.78      0.50      3816\n",
      "      gpe       0.00      0.00      0.00      1565\n",
      "      org       0.00      0.00      0.00      1939\n",
      "      tim       0.00      0.00      0.00      2076\n",
      "      per       0.56      0.74      0.64      1692\n",
      "      eve       0.00      0.00      0.00        41\n",
      "      art       0.00      0.00      0.00        31\n",
      "      nat       0.00      0.00      0.00        16\n",
      "\n",
      "micro avg       0.41      0.38      0.40     11176\n",
      "macro avg       0.21      0.38      0.27     11176\n",
      "\n"
     ]
    }
   ],
   "source": [
    "print(\"F1-score: {:.1%}\".format(f1_score(test_labels2, pred_labels2)))\n",
    "print(classification_report(test_labels2, pred_labels2))"
   ]
  },
  {
   "cell_type": "code",
   "execution_count": 184,
   "metadata": {},
   "outputs": [
    {
     "name": "stdout",
     "output_type": "stream",
     "text": [
      "Word           ||True ||Pred\n",
      "==============================\n",
      "Meanwhile      : O     O\n",
      ",              : O     O\n",
      "a              : O     O\n",
      "Sunni          : B-org B-per\n",
      "Arab           : I-org I-per\n",
      "leader         : O     O\n",
      ",              : O     O\n",
      "Sheikh         : B-per B-per\n",
      "Khalaf         : I-per I-per\n",
      "al-Ilayan      : I-per I-per\n",
      ",              : O     O\n",
      "said           : O     O\n",
      "he             : O     O\n",
      "was            : O     O\n",
      "not            : O     O\n",
      "hurt           : O     O\n",
      "in             : O     O\n",
      "an             : O     O\n",
      "assassination  : O     O\n",
      "attempt        : O     O\n",
      "by             : O     O\n",
      "gunmen         : O     O\n",
      "wearing        : O     O\n",
      "Iraqi          : B-gpe B-gpe\n",
      "military       : O     O\n",
      "uniforms       : O     O\n",
      ".              : O     O\n"
     ]
    }
   ],
   "source": [
    "i = 1928\n",
    "p = model.predict(np.array([X_te[i]]))\n",
    "p = np.argmax(p, axis=-1)\n",
    "true = np.argmax(y_te[i], -1)\n",
    "print(\"{:15}||{:5}||{}\".format(\"Word\", \"True\", \"Pred\"))\n",
    "print(30 * \"=\")\n",
    "for w, t, pred in zip(X_te[i], true, p[0]):\n",
    "    if w != 0:\n",
    "        print(\"{:15}: {:5} {}\".format(words[w-1], tags[t], tags[pred]))\n"
   ]
  },
  {
   "cell_type": "code",
   "execution_count": null,
   "metadata": {},
   "outputs": [],
   "source": []
  }
 ],
 "metadata": {
  "colab": {
   "authorship_tag": "ABX9TyO4myB7b1FBg2OE4x9XyJU8",
   "collapsed_sections": [],
   "include_colab_link": true,
   "name": "CRF-LSTM.ipynb",
   "provenance": []
  },
  "kernelspec": {
   "display_name": "Python 3",
   "language": "python",
   "name": "python3"
  },
  "language_info": {
   "codemirror_mode": {
    "name": "ipython",
    "version": 3
   },
   "file_extension": ".py",
   "mimetype": "text/x-python",
   "name": "python",
   "nbconvert_exporter": "python",
   "pygments_lexer": "ipython3",
   "version": "3.7.6"
  }
 },
 "nbformat": 4,
 "nbformat_minor": 1
}
